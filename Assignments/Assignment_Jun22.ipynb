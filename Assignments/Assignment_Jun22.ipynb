{
  "nbformat": 4,
  "nbformat_minor": 0,
  "metadata": {
    "colab": {
      "provenance": []
    },
    "kernelspec": {
      "name": "python3",
      "display_name": "Python 3"
    },
    "language_info": {
      "name": "python"
    }
  },
  "cells": [
    {
      "cell_type": "code",
      "source": [
        "# Question 1\n",
        "#Answer D"
      ],
      "metadata": {
        "id": "8Qi4IqsvJ0rm"
      },
      "execution_count": null,
      "outputs": []
    },
    {
      "cell_type": "code",
      "execution_count": null,
      "metadata": {
        "colab": {
          "base_uri": "https://localhost:8080/"
        },
        "id": "GnwdIjanJyn3",
        "outputId": "c10608e6-3c50-418b-ac7a-791b342b382e"
      },
      "outputs": [
        {
          "output_type": "stream",
          "name": "stdout",
          "text": [
            "129\n"
          ]
        }
      ],
      "source": [
        "# Question 2\n",
        "print(2**3 + (5 + 6) ** (1 + 1))"
      ]
    },
    {
      "cell_type": "code",
      "source": [
        "# Question 3\n",
        "var = 10\n",
        "print(type(var))\n",
        "var = \"Hello\"\n",
        "print(type(var))\n",
        "# d) int and str"
      ],
      "metadata": {
        "colab": {
          "base_uri": "https://localhost:8080/"
        },
        "id": "ieUMUNALKgO-",
        "outputId": "7db5a580-8704-4193-b46d-db5e2256bc60"
      },
      "execution_count": null,
      "outputs": [
        {
          "output_type": "stream",
          "name": "stdout",
          "text": [
            "<class 'int'>\n",
            "<class 'str'>\n"
          ]
        }
      ]
    },
    {
      "cell_type": "code",
      "source": [
        "# Question 4\n",
        "# Answers b"
      ],
      "metadata": {
        "id": "EFI5FUx4Kw22"
      },
      "execution_count": null,
      "outputs": []
    },
    {
      "cell_type": "code",
      "source": [
        "# Question 5\n",
        "a = [1, 2, 3]\n",
        "a = tuple(a)\n",
        "a[0] = 2\n",
        "print(a)\n",
        "\n",
        "# answer d"
      ],
      "metadata": {
        "colab": {
          "base_uri": "https://localhost:8080/",
          "height": 218
        },
        "id": "LnQim_ZMLAO2",
        "outputId": "47b970ed-7f05-4d73-e3e3-75c388c75759"
      },
      "execution_count": null,
      "outputs": [
        {
          "output_type": "error",
          "ename": "TypeError",
          "evalue": "ignored",
          "traceback": [
            "\u001b[0;31m---------------------------------------------------------------------------\u001b[0m",
            "\u001b[0;31mTypeError\u001b[0m                                 Traceback (most recent call last)",
            "\u001b[0;32m<ipython-input-3-a7b05cb6cdb6>\u001b[0m in \u001b[0;36m<cell line: 4>\u001b[0;34m()\u001b[0m\n\u001b[1;32m      2\u001b[0m \u001b[0ma\u001b[0m \u001b[0;34m=\u001b[0m \u001b[0;34m[\u001b[0m\u001b[0;36m1\u001b[0m\u001b[0;34m,\u001b[0m \u001b[0;36m2\u001b[0m\u001b[0;34m,\u001b[0m \u001b[0;36m3\u001b[0m\u001b[0;34m]\u001b[0m\u001b[0;34m\u001b[0m\u001b[0;34m\u001b[0m\u001b[0m\n\u001b[1;32m      3\u001b[0m \u001b[0ma\u001b[0m \u001b[0;34m=\u001b[0m \u001b[0mtuple\u001b[0m\u001b[0;34m(\u001b[0m\u001b[0ma\u001b[0m\u001b[0;34m)\u001b[0m\u001b[0;34m\u001b[0m\u001b[0;34m\u001b[0m\u001b[0m\n\u001b[0;32m----> 4\u001b[0;31m \u001b[0ma\u001b[0m\u001b[0;34m[\u001b[0m\u001b[0;36m0\u001b[0m\u001b[0;34m]\u001b[0m \u001b[0;34m=\u001b[0m \u001b[0;36m2\u001b[0m\u001b[0;34m\u001b[0m\u001b[0;34m\u001b[0m\u001b[0m\n\u001b[0m\u001b[1;32m      5\u001b[0m \u001b[0mprint\u001b[0m\u001b[0;34m(\u001b[0m\u001b[0ma\u001b[0m\u001b[0;34m)\u001b[0m\u001b[0;34m\u001b[0m\u001b[0;34m\u001b[0m\u001b[0m\n",
            "\u001b[0;31mTypeError\u001b[0m: 'tuple' object does not support item assignment"
          ]
        }
      ]
    },
    {
      "cell_type": "code",
      "source": [
        "#Question 6\n",
        "print(type(5 / 2))\n",
        "print(type(5 // 2))\n",
        "# answer a"
      ],
      "metadata": {
        "colab": {
          "base_uri": "https://localhost:8080/"
        },
        "id": "zduiLeL-LR_e",
        "outputId": "655750bb-88d9-45cf-b2ff-5c1c2edb45e0"
      },
      "execution_count": null,
      "outputs": [
        {
          "output_type": "stream",
          "name": "stdout",
          "text": [
            "<class 'float'>\n",
            "<class 'int'>\n"
          ]
        }
      ]
    },
    {
      "cell_type": "code",
      "source": [
        "# Question 7\n",
        "a = [1, 2, 3, 4, 5]\n",
        "sum = 0\n",
        "for ele in a:\n",
        "   sum += ele\n",
        "print(sum)\n",
        "# answer a"
      ],
      "metadata": {
        "colab": {
          "base_uri": "https://localhost:8080/"
        },
        "id": "dOb1pBZ-LiRt",
        "outputId": "99d6c251-1996-4248-c900-7e6b462f7be6"
      },
      "execution_count": null,
      "outputs": [
        {
          "output_type": "stream",
          "name": "stdout",
          "text": [
            "15\n"
          ]
        }
      ]
    },
    {
      "cell_type": "code",
      "source": [
        "# question 8\n",
        "count = 0\n",
        "while(True):\n",
        "   if count % 3 == 0:\n",
        "       print(count, end = \" \")\n",
        "   if(count > 15):\n",
        "       break;\n",
        "   count += 1\n",
        "# c) 0 3 6 9 12 15"
      ],
      "metadata": {
        "colab": {
          "base_uri": "https://localhost:8080/"
        },
        "id": "oCX0JJmsLp79",
        "outputId": "a699ba5c-158e-484d-adee-d57979b85db3"
      },
      "execution_count": null,
      "outputs": [
        {
          "output_type": "stream",
          "name": "stdout",
          "text": [
            "0 3 6 9 12 15 "
          ]
        }
      ]
    },
    {
      "cell_type": "code",
      "source": [
        "# question 9\n",
        "# a) pointers"
      ],
      "metadata": {
        "id": "qDUSCg_vMA7O"
      },
      "execution_count": null,
      "outputs": []
    },
    {
      "cell_type": "code",
      "source": [
        "# question 10\n",
        "def solve(a, b):\n",
        "  return b if a == 0 else solve(b % a, a)\n",
        "print(solve(20, 50))\n",
        "#a) 10"
      ],
      "metadata": {
        "colab": {
          "base_uri": "https://localhost:8080/"
        },
        "id": "dh4zb5eIM4se",
        "outputId": "ec189588-52c1-47f5-db9e-9c1135dafff6"
      },
      "execution_count": null,
      "outputs": [
        {
          "output_type": "stream",
          "name": "stdout",
          "text": [
            "10\n"
          ]
        }
      ]
    },
    {
      "cell_type": "code",
      "source": [
        "# question 11\n",
        "def solve(a):\n",
        "   a = [1, 3, 5]\n",
        "a = [2, 4, 6]\n",
        "print(a)\n",
        "solve(a)\n",
        "print(a)\n",
        "# a) [2, 4, 6]. [2, 4, 6]"
      ],
      "metadata": {
        "colab": {
          "base_uri": "https://localhost:8080/"
        },
        "id": "fKWeRyx_OVId",
        "outputId": "5e5ecdaa-cae9-4c7b-a5e9-ede0858a0109"
      },
      "execution_count": null,
      "outputs": [
        {
          "output_type": "stream",
          "name": "stdout",
          "text": [
            "[2, 4, 6]\n",
            "[2, 4, 6]\n"
          ]
        }
      ]
    },
    {
      "cell_type": "code",
      "source": [
        "# Question 12\n",
        "def func():\n",
        "   global value\n",
        "   value = \"Local\"\n",
        "\n",
        "value = \"Global\"\n",
        "func()\n",
        "print(value)\n"
      ],
      "metadata": {
        "colab": {
          "base_uri": "https://localhost:8080/"
        },
        "id": "thuLvLdJOkyt",
        "outputId": "98152046-0f6c-442f-a4a2-6fedb46c01fd"
      },
      "execution_count": null,
      "outputs": [
        {
          "output_type": "stream",
          "name": "stdout",
          "text": [
            "Local\n"
          ]
        }
      ]
    },
    {
      "cell_type": "code",
      "source": [
        "# question 13\n",
        "#D) all of the above"
      ],
      "metadata": {
        "id": "RXuiOcLKO8Be"
      },
      "execution_count": null,
      "outputs": []
    },
    {
      "cell_type": "code",
      "source": [
        "# Question 14\n",
        "a = 3\n",
        "b = 1\n",
        "print(a, b)\n",
        "a, b = b, a\n",
        "print(a, b)\n",
        "#a) 31 13"
      ],
      "metadata": {
        "colab": {
          "base_uri": "https://localhost:8080/"
        },
        "id": "AZIZpJxCPCAd",
        "outputId": "b7856c37-e574-4709-daa0-067b670a6c9e"
      },
      "execution_count": null,
      "outputs": [
        {
          "output_type": "stream",
          "name": "stdout",
          "text": [
            "3 1\n",
            "1 3\n"
          ]
        }
      ]
    },
    {
      "cell_type": "code",
      "source": [
        "# Question 15\n",
        "#c) do while"
      ],
      "metadata": {
        "id": "UfygI3X7PWE1"
      },
      "execution_count": null,
      "outputs": []
    },
    {
      "cell_type": "code",
      "source": [
        "# Question 16\n",
        "#a) if ele in list\n",
        "a=[1,2,3,4]\n",
        "if 1 in a:\n",
        "  print(True)"
      ],
      "metadata": {
        "colab": {
          "base_uri": "https://localhost:8080/"
        },
        "id": "MYFdKeuZPa02",
        "outputId": "bcb2f2c0-4a6a-400d-f86c-8cea2549a3f5"
      },
      "execution_count": null,
      "outputs": [
        {
          "output_type": "stream",
          "name": "stdout",
          "text": [
            "True\n"
          ]
        }
      ]
    },
    {
      "cell_type": "code",
      "source": [
        "def thrive(n):\n",
        " if n % 15 == 0:\n",
        "   print(\"thrive\", end = \" \")\n",
        " elif n % 3 != 0 and n % 5 != 0:\n",
        "   print(\"neither\", end = \" \")\n",
        " elif n % 3 == 0:\n",
        "   print(\"three\", end = \" \")\n",
        " elif n % 5 == 0:\n",
        "   print(\"five\", end = \" \")\n",
        "thrive(35)\n",
        "thrive(56)\n",
        "thrive(15)\n",
        "thrive(39)\n",
        "#a) five neither thrive three"
      ],
      "metadata": {
        "colab": {
          "base_uri": "https://localhost:8080/"
        },
        "id": "aARsRbzMPpJl",
        "outputId": "f07dc9b7-94c2-45cc-dd91-65a9e0b474ce"
      },
      "execution_count": null,
      "outputs": [
        {
          "output_type": "stream",
          "name": "stdout",
          "text": [
            "five neither thrive three "
          ]
        }
      ]
    },
    {
      "cell_type": "code",
      "source": [
        "def check(a):\n",
        "   print(\"Even\" if a % 2 == 0 else \"Odd\")\n",
        "\n",
        "check(12)\n",
        "# a) Even"
      ],
      "metadata": {
        "colab": {
          "base_uri": "https://localhost:8080/"
        },
        "id": "suuLEnalP8Ul",
        "outputId": "06fc1109-6ed8-41f3-f806-80838cdb712e"
      },
      "execution_count": null,
      "outputs": [
        {
          "output_type": "stream",
          "name": "stdout",
          "text": [
            "Even\n"
          ]
        }
      ]
    }
  ]
}