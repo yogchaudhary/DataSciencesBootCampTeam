{
  "nbformat": 4,
  "nbformat_minor": 0,
  "metadata": {
    "colab": {
      "provenance": []
    },
    "kernelspec": {
      "name": "python3",
      "display_name": "Python 3"
    },
    "language_info": {
      "name": "python"
    }
  },
  "cells": [
    {
      "cell_type": "code",
      "execution_count": null,
      "metadata": {
        "id": "kBXT_iz0--xL"
      },
      "outputs": [],
      "source": [
        "import pandas as pd\n",
        "import matplotlib.pyplot as plt"
      ]
    },
    {
      "cell_type": "code",
      "source": [
        "from google.colab import drive\n",
        "drive.mount('/content/drive')"
      ],
      "metadata": {
        "colab": {
          "base_uri": "https://localhost:8080/"
        },
        "id": "A3NiBax_CliC",
        "outputId": "0337e426-241d-48a2-e90a-ec3b6f15b411"
      },
      "execution_count": null,
      "outputs": [
        {
          "output_type": "stream",
          "name": "stdout",
          "text": [
            "Mounted at /content/drive\n"
          ]
        }
      ]
    },
    {
      "cell_type": "code",
      "source": [
        "df=pd.read_csv(\"drive/My Drive/application_data.csv\")"
      ],
      "metadata": {
        "id": "oxhfQnU1_D18"
      },
      "execution_count": null,
      "outputs": []
    },
    {
      "cell_type": "code",
      "source": [],
      "metadata": {
        "id": "JtyPbdCkNRxS"
      },
      "execution_count": null,
      "outputs": []
    },
    {
      "cell_type": "code",
      "source": [
        "df.shape[0]"
      ],
      "metadata": {
        "colab": {
          "base_uri": "https://localhost:8080/"
        },
        "id": "mesdWOlfC1wR",
        "outputId": "958ba5a2-0ffc-4e54-bba9-31129c8734c8"
      },
      "execution_count": null,
      "outputs": [
        {
          "output_type": "execute_result",
          "data": {
            "text/plain": [
              "307511"
            ]
          },
          "metadata": {},
          "execution_count": 5
        }
      ]
    },
    {
      "cell_type": "code",
      "source": [
        "df.head()"
      ],
      "metadata": {
        "colab": {
          "base_uri": "https://localhost:8080/",
          "height": 299
        },
        "id": "8y2GfpPd_PHE",
        "outputId": "82a48431-2547-4b08-9ea0-60def12bfb3a"
      },
      "execution_count": null,
      "outputs": [
        {
          "output_type": "execute_result",
          "data": {
            "text/plain": [
              "   SK_ID_CURR  TARGET NAME_CONTRACT_TYPE CODE_GENDER FLAG_OWN_CAR  \\\n",
              "0      100002       1         Cash loans           M            N   \n",
              "1      100003       0         Cash loans           F            N   \n",
              "2      100004       0    Revolving loans           M            Y   \n",
              "3      100006       0         Cash loans           F            N   \n",
              "4      100007       0         Cash loans           M            N   \n",
              "\n",
              "  FLAG_OWN_REALTY  CNT_CHILDREN  AMT_INCOME_TOTAL  AMT_CREDIT  AMT_ANNUITY  \\\n",
              "0               Y             0          202500.0    406597.5      24700.5   \n",
              "1               N             0          270000.0   1293502.5      35698.5   \n",
              "2               Y             0           67500.0    135000.0       6750.0   \n",
              "3               Y             0          135000.0    312682.5      29686.5   \n",
              "4               Y             0          121500.0    513000.0      21865.5   \n",
              "\n",
              "   ...  FLAG_DOCUMENT_18 FLAG_DOCUMENT_19 FLAG_DOCUMENT_20 FLAG_DOCUMENT_21  \\\n",
              "0  ...                 0                0                0                0   \n",
              "1  ...                 0                0                0                0   \n",
              "2  ...                 0                0                0                0   \n",
              "3  ...                 0                0                0                0   \n",
              "4  ...                 0                0                0                0   \n",
              "\n",
              "  AMT_REQ_CREDIT_BUREAU_HOUR AMT_REQ_CREDIT_BUREAU_DAY  \\\n",
              "0                        0.0                       0.0   \n",
              "1                        0.0                       0.0   \n",
              "2                        0.0                       0.0   \n",
              "3                        NaN                       NaN   \n",
              "4                        0.0                       0.0   \n",
              "\n",
              "   AMT_REQ_CREDIT_BUREAU_WEEK  AMT_REQ_CREDIT_BUREAU_MON  \\\n",
              "0                         0.0                        0.0   \n",
              "1                         0.0                        0.0   \n",
              "2                         0.0                        0.0   \n",
              "3                         NaN                        NaN   \n",
              "4                         0.0                        0.0   \n",
              "\n",
              "   AMT_REQ_CREDIT_BUREAU_QRT  AMT_REQ_CREDIT_BUREAU_YEAR  \n",
              "0                        0.0                         1.0  \n",
              "1                        0.0                         0.0  \n",
              "2                        0.0                         0.0  \n",
              "3                        NaN                         NaN  \n",
              "4                        0.0                         0.0  \n",
              "\n",
              "[5 rows x 122 columns]"
            ],
            "text/html": [
              "\n",
              "  <div id=\"df-0d78da59-fc88-46c9-b428-8e38c77de18e\">\n",
              "    <div class=\"colab-df-container\">\n",
              "      <div>\n",
              "<style scoped>\n",
              "    .dataframe tbody tr th:only-of-type {\n",
              "        vertical-align: middle;\n",
              "    }\n",
              "\n",
              "    .dataframe tbody tr th {\n",
              "        vertical-align: top;\n",
              "    }\n",
              "\n",
              "    .dataframe thead th {\n",
              "        text-align: right;\n",
              "    }\n",
              "</style>\n",
              "<table border=\"1\" class=\"dataframe\">\n",
              "  <thead>\n",
              "    <tr style=\"text-align: right;\">\n",
              "      <th></th>\n",
              "      <th>SK_ID_CURR</th>\n",
              "      <th>TARGET</th>\n",
              "      <th>NAME_CONTRACT_TYPE</th>\n",
              "      <th>CODE_GENDER</th>\n",
              "      <th>FLAG_OWN_CAR</th>\n",
              "      <th>FLAG_OWN_REALTY</th>\n",
              "      <th>CNT_CHILDREN</th>\n",
              "      <th>AMT_INCOME_TOTAL</th>\n",
              "      <th>AMT_CREDIT</th>\n",
              "      <th>AMT_ANNUITY</th>\n",
              "      <th>...</th>\n",
              "      <th>FLAG_DOCUMENT_18</th>\n",
              "      <th>FLAG_DOCUMENT_19</th>\n",
              "      <th>FLAG_DOCUMENT_20</th>\n",
              "      <th>FLAG_DOCUMENT_21</th>\n",
              "      <th>AMT_REQ_CREDIT_BUREAU_HOUR</th>\n",
              "      <th>AMT_REQ_CREDIT_BUREAU_DAY</th>\n",
              "      <th>AMT_REQ_CREDIT_BUREAU_WEEK</th>\n",
              "      <th>AMT_REQ_CREDIT_BUREAU_MON</th>\n",
              "      <th>AMT_REQ_CREDIT_BUREAU_QRT</th>\n",
              "      <th>AMT_REQ_CREDIT_BUREAU_YEAR</th>\n",
              "    </tr>\n",
              "  </thead>\n",
              "  <tbody>\n",
              "    <tr>\n",
              "      <th>0</th>\n",
              "      <td>100002</td>\n",
              "      <td>1</td>\n",
              "      <td>Cash loans</td>\n",
              "      <td>M</td>\n",
              "      <td>N</td>\n",
              "      <td>Y</td>\n",
              "      <td>0</td>\n",
              "      <td>202500.0</td>\n",
              "      <td>406597.5</td>\n",
              "      <td>24700.5</td>\n",
              "      <td>...</td>\n",
              "      <td>0</td>\n",
              "      <td>0</td>\n",
              "      <td>0</td>\n",
              "      <td>0</td>\n",
              "      <td>0.0</td>\n",
              "      <td>0.0</td>\n",
              "      <td>0.0</td>\n",
              "      <td>0.0</td>\n",
              "      <td>0.0</td>\n",
              "      <td>1.0</td>\n",
              "    </tr>\n",
              "    <tr>\n",
              "      <th>1</th>\n",
              "      <td>100003</td>\n",
              "      <td>0</td>\n",
              "      <td>Cash loans</td>\n",
              "      <td>F</td>\n",
              "      <td>N</td>\n",
              "      <td>N</td>\n",
              "      <td>0</td>\n",
              "      <td>270000.0</td>\n",
              "      <td>1293502.5</td>\n",
              "      <td>35698.5</td>\n",
              "      <td>...</td>\n",
              "      <td>0</td>\n",
              "      <td>0</td>\n",
              "      <td>0</td>\n",
              "      <td>0</td>\n",
              "      <td>0.0</td>\n",
              "      <td>0.0</td>\n",
              "      <td>0.0</td>\n",
              "      <td>0.0</td>\n",
              "      <td>0.0</td>\n",
              "      <td>0.0</td>\n",
              "    </tr>\n",
              "    <tr>\n",
              "      <th>2</th>\n",
              "      <td>100004</td>\n",
              "      <td>0</td>\n",
              "      <td>Revolving loans</td>\n",
              "      <td>M</td>\n",
              "      <td>Y</td>\n",
              "      <td>Y</td>\n",
              "      <td>0</td>\n",
              "      <td>67500.0</td>\n",
              "      <td>135000.0</td>\n",
              "      <td>6750.0</td>\n",
              "      <td>...</td>\n",
              "      <td>0</td>\n",
              "      <td>0</td>\n",
              "      <td>0</td>\n",
              "      <td>0</td>\n",
              "      <td>0.0</td>\n",
              "      <td>0.0</td>\n",
              "      <td>0.0</td>\n",
              "      <td>0.0</td>\n",
              "      <td>0.0</td>\n",
              "      <td>0.0</td>\n",
              "    </tr>\n",
              "    <tr>\n",
              "      <th>3</th>\n",
              "      <td>100006</td>\n",
              "      <td>0</td>\n",
              "      <td>Cash loans</td>\n",
              "      <td>F</td>\n",
              "      <td>N</td>\n",
              "      <td>Y</td>\n",
              "      <td>0</td>\n",
              "      <td>135000.0</td>\n",
              "      <td>312682.5</td>\n",
              "      <td>29686.5</td>\n",
              "      <td>...</td>\n",
              "      <td>0</td>\n",
              "      <td>0</td>\n",
              "      <td>0</td>\n",
              "      <td>0</td>\n",
              "      <td>NaN</td>\n",
              "      <td>NaN</td>\n",
              "      <td>NaN</td>\n",
              "      <td>NaN</td>\n",
              "      <td>NaN</td>\n",
              "      <td>NaN</td>\n",
              "    </tr>\n",
              "    <tr>\n",
              "      <th>4</th>\n",
              "      <td>100007</td>\n",
              "      <td>0</td>\n",
              "      <td>Cash loans</td>\n",
              "      <td>M</td>\n",
              "      <td>N</td>\n",
              "      <td>Y</td>\n",
              "      <td>0</td>\n",
              "      <td>121500.0</td>\n",
              "      <td>513000.0</td>\n",
              "      <td>21865.5</td>\n",
              "      <td>...</td>\n",
              "      <td>0</td>\n",
              "      <td>0</td>\n",
              "      <td>0</td>\n",
              "      <td>0</td>\n",
              "      <td>0.0</td>\n",
              "      <td>0.0</td>\n",
              "      <td>0.0</td>\n",
              "      <td>0.0</td>\n",
              "      <td>0.0</td>\n",
              "      <td>0.0</td>\n",
              "    </tr>\n",
              "  </tbody>\n",
              "</table>\n",
              "<p>5 rows × 122 columns</p>\n",
              "</div>\n",
              "      <button class=\"colab-df-convert\" onclick=\"convertToInteractive('df-0d78da59-fc88-46c9-b428-8e38c77de18e')\"\n",
              "              title=\"Convert this dataframe to an interactive table.\"\n",
              "              style=\"display:none;\">\n",
              "        \n",
              "  <svg xmlns=\"http://www.w3.org/2000/svg\" height=\"24px\"viewBox=\"0 0 24 24\"\n",
              "       width=\"24px\">\n",
              "    <path d=\"M0 0h24v24H0V0z\" fill=\"none\"/>\n",
              "    <path d=\"M18.56 5.44l.94 2.06.94-2.06 2.06-.94-2.06-.94-.94-2.06-.94 2.06-2.06.94zm-11 1L8.5 8.5l.94-2.06 2.06-.94-2.06-.94L8.5 2.5l-.94 2.06-2.06.94zm10 10l.94 2.06.94-2.06 2.06-.94-2.06-.94-.94-2.06-.94 2.06-2.06.94z\"/><path d=\"M17.41 7.96l-1.37-1.37c-.4-.4-.92-.59-1.43-.59-.52 0-1.04.2-1.43.59L10.3 9.45l-7.72 7.72c-.78.78-.78 2.05 0 2.83L4 21.41c.39.39.9.59 1.41.59.51 0 1.02-.2 1.41-.59l7.78-7.78 2.81-2.81c.8-.78.8-2.07 0-2.86zM5.41 20L4 18.59l7.72-7.72 1.47 1.35L5.41 20z\"/>\n",
              "  </svg>\n",
              "      </button>\n",
              "      \n",
              "  <style>\n",
              "    .colab-df-container {\n",
              "      display:flex;\n",
              "      flex-wrap:wrap;\n",
              "      gap: 12px;\n",
              "    }\n",
              "\n",
              "    .colab-df-convert {\n",
              "      background-color: #E8F0FE;\n",
              "      border: none;\n",
              "      border-radius: 50%;\n",
              "      cursor: pointer;\n",
              "      display: none;\n",
              "      fill: #1967D2;\n",
              "      height: 32px;\n",
              "      padding: 0 0 0 0;\n",
              "      width: 32px;\n",
              "    }\n",
              "\n",
              "    .colab-df-convert:hover {\n",
              "      background-color: #E2EBFA;\n",
              "      box-shadow: 0px 1px 2px rgba(60, 64, 67, 0.3), 0px 1px 3px 1px rgba(60, 64, 67, 0.15);\n",
              "      fill: #174EA6;\n",
              "    }\n",
              "\n",
              "    [theme=dark] .colab-df-convert {\n",
              "      background-color: #3B4455;\n",
              "      fill: #D2E3FC;\n",
              "    }\n",
              "\n",
              "    [theme=dark] .colab-df-convert:hover {\n",
              "      background-color: #434B5C;\n",
              "      box-shadow: 0px 1px 3px 1px rgba(0, 0, 0, 0.15);\n",
              "      filter: drop-shadow(0px 1px 2px rgba(0, 0, 0, 0.3));\n",
              "      fill: #FFFFFF;\n",
              "    }\n",
              "  </style>\n",
              "\n",
              "      <script>\n",
              "        const buttonEl =\n",
              "          document.querySelector('#df-0d78da59-fc88-46c9-b428-8e38c77de18e button.colab-df-convert');\n",
              "        buttonEl.style.display =\n",
              "          google.colab.kernel.accessAllowed ? 'block' : 'none';\n",
              "\n",
              "        async function convertToInteractive(key) {\n",
              "          const element = document.querySelector('#df-0d78da59-fc88-46c9-b428-8e38c77de18e');\n",
              "          const dataTable =\n",
              "            await google.colab.kernel.invokeFunction('convertToInteractive',\n",
              "                                                     [key], {});\n",
              "          if (!dataTable) return;\n",
              "\n",
              "          const docLinkHtml = 'Like what you see? Visit the ' +\n",
              "            '<a target=\"_blank\" href=https://colab.research.google.com/notebooks/data_table.ipynb>data table notebook</a>'\n",
              "            + ' to learn more about interactive tables.';\n",
              "          element.innerHTML = '';\n",
              "          dataTable['output_type'] = 'display_data';\n",
              "          await google.colab.output.renderOutput(dataTable, element);\n",
              "          const docLink = document.createElement('div');\n",
              "          docLink.innerHTML = docLinkHtml;\n",
              "          element.appendChild(docLink);\n",
              "        }\n",
              "      </script>\n",
              "    </div>\n",
              "  </div>\n",
              "  "
            ]
          },
          "metadata": {},
          "execution_count": 6
        }
      ]
    },
    {
      "cell_type": "markdown",
      "source": [
        "1) Find all categorical variables\n",
        "\n",
        "2) Find Count of instances in 0 and 1 class in TARGET column\n",
        "\n",
        "3) Find % of instances in 0 and 1 class in TARGET column\n",
        "\n",
        "4) Bar chart for both 2nd and 3rd\n",
        "\n",
        "5) Find unique values in each column"
      ],
      "metadata": {
        "id": "rwHIkDmOJ7N9"
      }
    },
    {
      "cell_type": "code",
      "source": [
        "# Count of Categorical Columns\n",
        "data_types = df.dtypes\n",
        "categorical_columns = data_types[data_types == 'object'].index\n",
        "print(categorical_columns)\n",
        "categorical_columns.shape"
      ],
      "metadata": {
        "colab": {
          "base_uri": "https://localhost:8080/"
        },
        "id": "grWhCnXRAhjc",
        "outputId": "44b10c85-2e57-4581-f297-4f26e3e95eec"
      },
      "execution_count": null,
      "outputs": [
        {
          "output_type": "stream",
          "name": "stdout",
          "text": [
            "Index(['NAME_CONTRACT_TYPE', 'CODE_GENDER', 'FLAG_OWN_CAR', 'FLAG_OWN_REALTY',\n",
            "       'NAME_TYPE_SUITE', 'NAME_INCOME_TYPE', 'NAME_EDUCATION_TYPE',\n",
            "       'NAME_FAMILY_STATUS', 'NAME_HOUSING_TYPE', 'OCCUPATION_TYPE',\n",
            "       'WEEKDAY_APPR_PROCESS_START', 'ORGANIZATION_TYPE', 'FONDKAPREMONT_MODE',\n",
            "       'HOUSETYPE_MODE', 'WALLSMATERIAL_MODE', 'EMERGENCYSTATE_MODE'],\n",
            "      dtype='object')\n"
          ]
        },
        {
          "output_type": "execute_result",
          "data": {
            "text/plain": [
              "(16,)"
            ]
          },
          "metadata": {},
          "execution_count": 7
        }
      ]
    },
    {
      "cell_type": "code",
      "source": [
        "# VALUES COUNT\n",
        "count_of_target_class=df['TARGET'].value_counts()\n",
        "count_of_target_class"
      ],
      "metadata": {
        "colab": {
          "base_uri": "https://localhost:8080/"
        },
        "id": "2a5V6Sq2G9VE",
        "outputId": "356701ef-0d79-42df-9b4e-e6aad7197191"
      },
      "execution_count": null,
      "outputs": [
        {
          "output_type": "execute_result",
          "data": {
            "text/plain": [
              "0    282686\n",
              "1     24825\n",
              "Name: TARGET, dtype: int64"
            ]
          },
          "metadata": {},
          "execution_count": 29
        }
      ]
    },
    {
      "cell_type": "code",
      "source": [
        "# Percentage Value\n",
        "percentage_of_target_class=(df['TARGET'].value_counts()/df.shape[0])*100\n",
        "percentage_of_target_class"
      ],
      "metadata": {
        "colab": {
          "base_uri": "https://localhost:8080/"
        },
        "id": "mxhIc9JIHkKN",
        "outputId": "de1cb8b2-85d1-469a-ad79-0634dec1a57d"
      },
      "execution_count": null,
      "outputs": [
        {
          "output_type": "execute_result",
          "data": {
            "text/plain": [
              "0    91.927118\n",
              "1     8.072882\n",
              "Name: TARGET, dtype: float64"
            ]
          },
          "metadata": {},
          "execution_count": 31
        }
      ]
    },
    {
      "cell_type": "code",
      "source": [
        "plt.bar([0,1],count_of_target_class.values)\n",
        "plt.xticks([0,1])\n",
        "plt.ylabel(\"Number of Observations\")\n",
        "plt.title(\"Count of Observations in Target Class\")"
      ],
      "metadata": {
        "colab": {
          "base_uri": "https://localhost:8080/",
          "height": 470
        },
        "id": "zjDhJW0oH8kd",
        "outputId": "dedc2912-8c0a-400a-927b-d4ebb43bafb1"
      },
      "execution_count": null,
      "outputs": [
        {
          "output_type": "execute_result",
          "data": {
            "text/plain": [
              "Text(0.5, 1.0, 'Count of Observations in Target Class')"
            ]
          },
          "metadata": {},
          "execution_count": 32
        },
        {
          "output_type": "display_data",
          "data": {
            "text/plain": [
              "<Figure size 640x480 with 1 Axes>"
            ],
            "image/png": "[encoded data removed]"
          },
          "metadata": {}
        }
      ]
    },
    {
      "cell_type": "code",
      "source": [
        "plt.bar([0,1],percentage_of_target_class.values)\n",
        "plt.xticks([0,1])\n",
        "plt.ylabel(\"Percentage of Observations\")\n",
        "plt.title(\"Percentage of Observations in Target Class\")"
      ],
      "metadata": {
        "colab": {
          "base_uri": "https://localhost:8080/",
          "height": 470
        },
        "id": "ZBigqAr7ITBs",
        "outputId": "c86f05e3-d51b-40db-bcb9-5827230cf141"
      },
      "execution_count": null,
      "outputs": [
        {
          "output_type": "execute_result",
          "data": {
            "text/plain": [
              "Text(0.5, 1.0, 'Percentage of Observations in Target Class')"
            ]
          },
          "metadata": {},
          "execution_count": 33
        },
        {
          "output_type": "display_data",
          "data": {
            "text/plain": [
              "<Figure size 640x480 with 1 Axes>"
            ],
            "image/png": "[encoded data removed]"
          },
          "metadata": {}
        }
      ]
    },
    {
      "cell_type": "code",
      "source": [
        "# How many unique values in each column\n",
        "column_names=list(df.columns)\n",
        "for k in column_names:\n",
        "  print(k, df[k].unique().shape[0])"
      ],
      "metadata": {
        "colab": {
          "base_uri": "https://localhost:8080/"
        },
        "id": "tHDTY7F-LJ9E",
        "outputId": "1b15b23a-5927-4cf4-8255-0d3ca3b43b75"
      },
      "execution_count": null,
      "outputs": [
        {
          "output_type": "stream",
          "name": "stdout",
          "text": [
            "SK_ID_CURR 307511\n",
            "TARGET 2\n",
            "NAME_CONTRACT_TYPE 2\n",
            "CODE_GENDER 3\n",
            "FLAG_OWN_CAR 2\n",
            "FLAG_OWN_REALTY 2\n",
            "CNT_CHILDREN 15\n",
            "AMT_INCOME_TOTAL 2548\n",
            "AMT_CREDIT 5603\n",
            "AMT_ANNUITY 13673\n",
            "AMT_GOODS_PRICE 1003\n",
            "NAME_TYPE_SUITE 8\n",
            "NAME_INCOME_TYPE 8\n",
            "NAME_EDUCATION_TYPE 5\n",
            "NAME_FAMILY_STATUS 6\n",
            "NAME_HOUSING_TYPE 6\n",
            "REGION_POPULATION_RELATIVE 81\n",
            "DAYS_BIRTH 17460\n",
            "DAYS_EMPLOYED 12574\n",
            "DAYS_REGISTRATION 15688\n",
            "DAYS_ID_PUBLISH 6168\n",
            "OWN_CAR_AGE 63\n",
            "FLAG_MOBIL 2\n",
            "FLAG_EMP_PHONE 2\n",
            "FLAG_WORK_PHONE 2\n",
            "FLAG_CONT_MOBILE 2\n",
            "FLAG_PHONE 2\n",
            "FLAG_EMAIL 2\n",
            "OCCUPATION_TYPE 19\n",
            "CNT_FAM_MEMBERS 18\n",
            "REGION_RATING_CLIENT 3\n",
            "REGION_RATING_CLIENT_W_CITY 3\n",
            "WEEKDAY_APPR_PROCESS_START 7\n",
            "HOUR_APPR_PROCESS_START 24\n",
            "REG_REGION_NOT_LIVE_REGION 2\n",
            "REG_REGION_NOT_WORK_REGION 2\n",
            "LIVE_REGION_NOT_WORK_REGION 2\n",
            "REG_CITY_NOT_LIVE_CITY 2\n",
            "REG_CITY_NOT_WORK_CITY 2\n",
            "LIVE_CITY_NOT_WORK_CITY 2\n",
            "ORGANIZATION_TYPE 58\n",
            "EXT_SOURCE_1 114585\n",
            "EXT_SOURCE_2 119832\n",
            "EXT_SOURCE_3 815\n",
            "APARTMENTS_AVG 2340\n",
            "BASEMENTAREA_AVG 3781\n",
            "YEARS_BEGINEXPLUATATION_AVG 286\n",
            "YEARS_BUILD_AVG 150\n",
            "COMMONAREA_AVG 3182\n",
            "ELEVATORS_AVG 258\n",
            "ENTRANCES_AVG 286\n",
            "FLOORSMAX_AVG 404\n",
            "FLOORSMIN_AVG 306\n",
            "LANDAREA_AVG 3528\n",
            "LIVINGAPARTMENTS_AVG 1869\n",
            "LIVINGAREA_AVG 5200\n",
            "NONLIVINGAPARTMENTS_AVG 387\n",
            "NONLIVINGAREA_AVG 3291\n",
            "APARTMENTS_MODE 761\n",
            "BASEMENTAREA_MODE 3842\n",
            "YEARS_BEGINEXPLUATATION_MODE 222\n",
            "YEARS_BUILD_MODE 155\n",
            "COMMONAREA_MODE 3129\n",
            "ELEVATORS_MODE 27\n",
            "ENTRANCES_MODE 31\n",
            "FLOORSMAX_MODE 26\n",
            "FLOORSMIN_MODE 26\n",
            "LANDAREA_MODE 3564\n",
            "LIVINGAPARTMENTS_MODE 737\n",
            "LIVINGAREA_MODE 5302\n",
            "NONLIVINGAPARTMENTS_MODE 168\n",
            "NONLIVINGAREA_MODE 3328\n",
            "APARTMENTS_MEDI 1149\n",
            "BASEMENTAREA_MEDI 3773\n",
            "YEARS_BEGINEXPLUATATION_MEDI 246\n",
            "YEARS_BUILD_MEDI 152\n",
            "COMMONAREA_MEDI 3203\n",
            "ELEVATORS_MEDI 47\n",
            "ENTRANCES_MEDI 47\n",
            "FLOORSMAX_MEDI 50\n",
            "FLOORSMIN_MEDI 48\n",
            "LANDAREA_MEDI 3561\n",
            "LIVINGAPARTMENTS_MEDI 1098\n",
            "LIVINGAREA_MEDI 5282\n",
            "NONLIVINGAPARTMENTS_MEDI 215\n",
            "NONLIVINGAREA_MEDI 3324\n",
            "FONDKAPREMONT_MODE 5\n",
            "HOUSETYPE_MODE 4\n",
            "TOTALAREA_MODE 5117\n",
            "WALLSMATERIAL_MODE 8\n",
            "EMERGENCYSTATE_MODE 3\n",
            "OBS_30_CNT_SOCIAL_CIRCLE 34\n",
            "DEF_30_CNT_SOCIAL_CIRCLE 11\n",
            "OBS_60_CNT_SOCIAL_CIRCLE 34\n",
            "DEF_60_CNT_SOCIAL_CIRCLE 10\n",
            "DAYS_LAST_PHONE_CHANGE 3774\n",
            "FLAG_DOCUMENT_2 2\n",
            "FLAG_DOCUMENT_3 2\n",
            "FLAG_DOCUMENT_4 2\n",
            "FLAG_DOCUMENT_5 2\n",
            "FLAG_DOCUMENT_6 2\n",
            "FLAG_DOCUMENT_7 2\n",
            "FLAG_DOCUMENT_8 2\n",
            "FLAG_DOCUMENT_9 2\n",
            "FLAG_DOCUMENT_10 2\n",
            "FLAG_DOCUMENT_11 2\n",
            "FLAG_DOCUMENT_12 2\n",
            "FLAG_DOCUMENT_13 2\n",
            "FLAG_DOCUMENT_14 2\n",
            "FLAG_DOCUMENT_15 2\n",
            "FLAG_DOCUMENT_16 2\n",
            "FLAG_DOCUMENT_17 2\n",
            "FLAG_DOCUMENT_18 2\n",
            "FLAG_DOCUMENT_19 2\n",
            "FLAG_DOCUMENT_20 2\n",
            "FLAG_DOCUMENT_21 2\n",
            "AMT_REQ_CREDIT_BUREAU_HOUR 6\n",
            "AMT_REQ_CREDIT_BUREAU_DAY 10\n",
            "AMT_REQ_CREDIT_BUREAU_WEEK 10\n",
            "AMT_REQ_CREDIT_BUREAU_MON 25\n",
            "AMT_REQ_CREDIT_BUREAU_QRT 12\n",
            "AMT_REQ_CREDIT_BUREAU_YEAR 26\n"
          ]
        }
      ]
    },
    {
      "cell_type": "markdown",
      "source": [
        "6) Find how many nan values in each column\n",
        "\n",
        "7) Preprocessing for each column differently according to the nan values in each column"
      ],
      "metadata": {
        "id": "cBfMXbYUMZpt"
      }
    },
    {
      "cell_type": "code",
      "source": [
        "# Question 6\n",
        "df_missing_value_percentage = 100*df.isnull().sum()/len(df)\n",
        "for k in range(df_missing_value_percentage.shape[0]):\n",
        "  print(column_names[k],df_missing_value_percentage.iloc[k])"
      ],
      "metadata": {
        "colab": {
          "base_uri": "https://localhost:8080/"
        },
        "id": "35oTw8GeH_2d",
        "outputId": "d395dd09-ea61-47ca-d2a4-580ed3203ba1"
      },
      "execution_count": null,
      "outputs": [
        {
          "output_type": "stream",
          "name": "stdout",
          "text": [
            "SK_ID_CURR 0.0\n",
            "TARGET 0.0\n",
            "NAME_CONTRACT_TYPE 0.0\n",
            "CODE_GENDER 0.0\n",
            "FLAG_OWN_CAR 0.0\n",
            "FLAG_OWN_REALTY 0.0\n",
            "CNT_CHILDREN 0.0\n",
            "AMT_INCOME_TOTAL 0.0\n",
            "AMT_CREDIT 0.0\n",
            "AMT_ANNUITY 0.0039022994299390914\n",
            "AMT_GOODS_PRICE 0.09040327012692229\n",
            "NAME_TYPE_SUITE 0.42014757195677555\n",
            "NAME_INCOME_TYPE 0.0\n",
            "NAME_EDUCATION_TYPE 0.0\n",
            "NAME_FAMILY_STATUS 0.0\n",
            "NAME_HOUSING_TYPE 0.0\n",
            "REGION_POPULATION_RELATIVE 0.0\n",
            "DAYS_BIRTH 0.0\n",
            "DAYS_EMPLOYED 0.0\n",
            "DAYS_REGISTRATION 0.0\n",
            "DAYS_ID_PUBLISH 0.0\n",
            "OWN_CAR_AGE 65.9908100848425\n",
            "FLAG_MOBIL 0.0\n",
            "FLAG_EMP_PHONE 0.0\n",
            "FLAG_WORK_PHONE 0.0\n",
            "FLAG_CONT_MOBILE 0.0\n",
            "FLAG_PHONE 0.0\n",
            "FLAG_EMAIL 0.0\n",
            "OCCUPATION_TYPE 31.345545362604916\n",
            "CNT_FAM_MEMBERS 0.000650383238323182\n",
            "REGION_RATING_CLIENT 0.0\n",
            "REGION_RATING_CLIENT_W_CITY 0.0\n",
            "WEEKDAY_APPR_PROCESS_START 0.0\n",
            "HOUR_APPR_PROCESS_START 0.0\n",
            "REG_REGION_NOT_LIVE_REGION 0.0\n",
            "REG_REGION_NOT_WORK_REGION 0.0\n",
            "LIVE_REGION_NOT_WORK_REGION 0.0\n",
            "REG_CITY_NOT_LIVE_CITY 0.0\n",
            "REG_CITY_NOT_WORK_CITY 0.0\n",
            "LIVE_CITY_NOT_WORK_CITY 0.0\n",
            "ORGANIZATION_TYPE 0.0\n",
            "EXT_SOURCE_1 56.38107254699832\n",
            "EXT_SOURCE_2 0.21462646864665003\n",
            "EXT_SOURCE_3 19.825307062186393\n",
            "APARTMENTS_AVG 50.749729277977046\n",
            "BASEMENTAREA_AVG 58.515955526794166\n",
            "YEARS_BEGINEXPLUATATION_AVG 48.781019215572776\n",
            "YEARS_BUILD_AVG 66.49778381911541\n",
            "COMMONAREA_AVG 69.87229725115525\n",
            "ELEVATORS_AVG 53.29597965601231\n",
            "ENTRANCES_AVG 50.34876801155081\n",
            "FLOORSMAX_AVG 49.76082156410665\n",
            "FLOORSMIN_AVG 67.84862980511267\n",
            "LANDAREA_AVG 59.376737742714894\n",
            "LIVINGAPARTMENTS_AVG 68.35495315614726\n",
            "LIVINGAREA_AVG 50.193326417591564\n",
            "NONLIVINGAPARTMENTS_AVG 69.43296337366793\n",
            "NONLIVINGAREA_AVG 55.17916432257708\n",
            "APARTMENTS_MODE 50.749729277977046\n",
            "BASEMENTAREA_MODE 58.515955526794166\n",
            "YEARS_BEGINEXPLUATATION_MODE 48.781019215572776\n",
            "YEARS_BUILD_MODE 66.49778381911541\n",
            "COMMONAREA_MODE 69.87229725115525\n",
            "ELEVATORS_MODE 53.29597965601231\n",
            "ENTRANCES_MODE 50.34876801155081\n",
            "FLOORSMAX_MODE 49.76082156410665\n",
            "FLOORSMIN_MODE 67.84862980511267\n",
            "LANDAREA_MODE 59.376737742714894\n",
            "LIVINGAPARTMENTS_MODE 68.35495315614726\n",
            "LIVINGAREA_MODE 50.193326417591564\n",
            "NONLIVINGAPARTMENTS_MODE 69.43296337366793\n",
            "NONLIVINGAREA_MODE 55.17916432257708\n",
            "APARTMENTS_MEDI 50.749729277977046\n",
            "BASEMENTAREA_MEDI 58.515955526794166\n",
            "YEARS_BEGINEXPLUATATION_MEDI 48.781019215572776\n",
            "YEARS_BUILD_MEDI 66.49778381911541\n",
            "COMMONAREA_MEDI 69.87229725115525\n",
            "ELEVATORS_MEDI 53.29597965601231\n",
            "ENTRANCES_MEDI 50.34876801155081\n",
            "FLOORSMAX_MEDI 49.76082156410665\n",
            "FLOORSMIN_MEDI 67.84862980511267\n",
            "LANDAREA_MEDI 59.376737742714894\n",
            "LIVINGAPARTMENTS_MEDI 68.35495315614726\n",
            "LIVINGAREA_MEDI 50.193326417591564\n",
            "NONLIVINGAPARTMENTS_MEDI 69.43296337366793\n",
            "NONLIVINGAREA_MEDI 55.17916432257708\n",
            "FONDKAPREMONT_MODE 68.38617155158677\n",
            "HOUSETYPE_MODE 50.176091261776\n",
            "TOTALAREA_MODE 48.26851722377411\n",
            "WALLSMATERIAL_MODE 50.8407829313423\n",
            "EMERGENCYSTATE_MODE 47.39830445089769\n",
            "OBS_30_CNT_SOCIAL_CIRCLE 0.3320206431639844\n",
            "DEF_30_CNT_SOCIAL_CIRCLE 0.3320206431639844\n",
            "OBS_60_CNT_SOCIAL_CIRCLE 0.3320206431639844\n",
            "DEF_60_CNT_SOCIAL_CIRCLE 0.3320206431639844\n",
            "DAYS_LAST_PHONE_CHANGE 0.000325191619161591\n",
            "FLAG_DOCUMENT_2 0.0\n",
            "FLAG_DOCUMENT_3 0.0\n",
            "FLAG_DOCUMENT_4 0.0\n",
            "FLAG_DOCUMENT_5 0.0\n",
            "FLAG_DOCUMENT_6 0.0\n",
            "FLAG_DOCUMENT_7 0.0\n",
            "FLAG_DOCUMENT_8 0.0\n",
            "FLAG_DOCUMENT_9 0.0\n",
            "FLAG_DOCUMENT_10 0.0\n",
            "FLAG_DOCUMENT_11 0.0\n",
            "FLAG_DOCUMENT_12 0.0\n",
            "FLAG_DOCUMENT_13 0.0\n",
            "FLAG_DOCUMENT_14 0.0\n",
            "FLAG_DOCUMENT_15 0.0\n",
            "FLAG_DOCUMENT_16 0.0\n",
            "FLAG_DOCUMENT_17 0.0\n",
            "FLAG_DOCUMENT_18 0.0\n",
            "FLAG_DOCUMENT_19 0.0\n",
            "FLAG_DOCUMENT_20 0.0\n",
            "FLAG_DOCUMENT_21 0.0\n",
            "AMT_REQ_CREDIT_BUREAU_HOUR 13.501630835970095\n",
            "AMT_REQ_CREDIT_BUREAU_DAY 13.501630835970095\n",
            "AMT_REQ_CREDIT_BUREAU_WEEK 13.501630835970095\n",
            "AMT_REQ_CREDIT_BUREAU_MON 13.501630835970095\n",
            "AMT_REQ_CREDIT_BUREAU_QRT 13.501630835970095\n",
            "AMT_REQ_CREDIT_BUREAU_YEAR 13.501630835970095\n"
          ]
        }
      ]
    }
  ]
}