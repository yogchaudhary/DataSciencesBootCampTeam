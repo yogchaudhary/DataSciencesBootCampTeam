{
  "nbformat": 4,
  "nbformat_minor": 0,
  "metadata": {
    "colab": {
      "provenance": []
    },
    "kernelspec": {
      "name": "python3",
      "display_name": "Python 3"
    },
    "language_info": {
      "name": "python"
    }
  },
  "cells": [
    {
      "cell_type": "code",
      "source": [
        "# svm, randomforest,deicison tree # next 1st class i will cover all these\n",
        "# basic data types int,float,complex\n",
        "# string (indexing and slicing)\n",
        "# list (indexing and slicing)\n",
        "# tuple\n",
        "# dictonary\n",
        "# OOPS\n",
        "# functions\n",
        "# lambda functions\n",
        "# pandas\n",
        "# file handling\n",
        "# exception handling\n",
        "# numpy\n",
        "# EDA\n",
        "# feature engineering\n",
        "# domain specific # healthcare,insurance, IT domain, emcommerce, Retail\n",
        "# recuression\n",
        "# matplotlib for visualization\n",
        "# clustering (kmeans, heririchal clustering)\n",
        "# classification (knn,assosiation rule)\n",
        "# metrics and evaluation\n",
        "# regression (polynomial regression,multipolynomial regression) # polynomial regressions,multipolynomial regression"
      ],
      "metadata": {
        "id": "sC1fbK4wDVc8"
      },
      "execution_count": null,
      "outputs": []
    },
    {
      "cell_type": "code",
      "source": [
        "# lambda functions # revision\n",
        "x=lambda a,b : a+b+10\n",
        "print(x(5,2))\n"
      ],
      "metadata": {
        "colab": {
          "base_uri": "https://localhost:8080/"
        },
        "id": "GiKlT4JbLj5T",
        "outputId": "4f3c5472-4824-4f5f-d49b-7e29d4a97044"
      },
      "execution_count": null,
      "outputs": [
        {
          "output_type": "stream",
          "name": "stdout",
          "text": [
            "17\n"
          ]
        }
      ]
    },
    {
      "cell_type": "code",
      "source": [
        "x=lambda a,b,c,d,w,e,f,g,h : a*b*c*d*e*f*g*h\n",
        "print(x(5,2,5,2,5,2,5,2,2))"
      ],
      "metadata": {
        "colab": {
          "base_uri": "https://localhost:8080/"
        },
        "id": "aG7Sjw2-MfNM",
        "outputId": "536a99b1-09ca-427d-95b3-06cc8a55aebc"
      },
      "execution_count": null,
      "outputs": [
        {
          "output_type": "stream",
          "name": "stdout",
          "text": [
            "4000\n"
          ]
        }
      ]
    },
    {
      "cell_type": "code",
      "source": [
        "from sklearn.datasets import load_iris\n",
        "from sklearn.neighbors import KNeighborsClassifier\n",
        "from sklearn.model_selection import train_test_split\n",
        "from sklearn.metrics import accuracy_score,f1_score,precision_score,recall_score,confusion_matrix"
      ],
      "metadata": {
        "id": "RRpf97I_Rf2y"
      },
      "execution_count": null,
      "outputs": []
    },
    {
      "cell_type": "code",
      "source": [
        "iris=load_iris()\n",
        "X=iris.data\n",
        "y=iris.target\n",
        "# parameter optimization\n",
        "knn_Classifier=KNeighborsClassifier(n_neighbors=9)\n",
        "X_train,X_test,y_train,y_test=train_test_split(X,y,test_size=.3,random_state=52)\n",
        "knn_Classifier.fit(X_train,y_train)\n",
        "pred_labels=knn_Classifier.predict(X_test)"
      ],
      "metadata": {
        "id": "8qWdYlk8Rl-C"
      },
      "execution_count": null,
      "outputs": []
    },
    {
      "cell_type": "code",
      "source": [
        "# EVALUATION\n",
        "accuracy=accuracy_score(y_test,pred_labels)\n",
        "print(accuracy)\n",
        "f1_score_val=f1_score(y_test,pred_labels,average='weighted')\n",
        "print(f1_score_val)\n",
        "precision_val=precision_score(y_test,pred_labels,average='weighted')\n",
        "print(precision_val)\n",
        "recall_val=recall_score(y_test,pred_labels,average='weighted')\n",
        "print(recall_val)\n",
        "c=confusion_matrix(y_test,pred_labels)\n",
        "print(c)"
      ],
      "metadata": {
        "colab": {
          "base_uri": "https://localhost:8080/"
        },
        "id": "7bswRtIPSks7",
        "outputId": "9b687bf0-138c-4928-af56-4ff66adc407a"
      },
      "execution_count": null,
      "outputs": [
        {
          "output_type": "stream",
          "name": "stdout",
          "text": [
            "0.9555555555555556\n",
            "0.9554012345679013\n",
            "0.960233918128655\n",
            "0.9555555555555556\n",
            "[[11  0  0]\n",
            " [ 0 15  2]\n",
            " [ 0  0 17]]\n"
          ]
        }
      ]
    },
    {
      "cell_type": "code",
      "source": [
        "\"\"\"\n",
        "     Actual Value\n",
        "    0   1   2\n",
        " 0 [[11  0   0]\n",
        " 1 [ 0   15  2]\n",
        " 2 [0    0  17]]\n",
        "\n",
        "\"\"\""
      ],
      "metadata": {
        "id": "rXH994qUXepr"
      },
      "execution_count": null,
      "outputs": []
    },
    {
      "cell_type": "code",
      "source": [
        "# raw data ====> information =====> model creation ======> evaluation ======> retraining with parameter optimization or feature engineering"
      ],
      "metadata": {
        "id": "bUG2QqbDUqrr"
      },
      "execution_count": null,
      "outputs": []
    },
    {
      "cell_type": "code",
      "source": [
        "#recuression\n",
        "def solve(a, b):\n",
        "   return b if a == 0 else solve(b % a, a)\n",
        "\n",
        "print(solve(20, 50))\n"
      ],
      "metadata": {
        "id": "ZcMYSOY-YgBa"
      },
      "execution_count": null,
      "outputs": []
    },
    {
      "cell_type": "code",
      "source": [
        "from sklearn.datasets import load_iris\n",
        "from sklearn.ensemble import RandomForestClassifier\n",
        "from sklearn.model_selection import train_test_split\n",
        "from sklearn.metrics import accuracy_score,f1_score,precision_score,recall_score,confusion_matrix"
      ],
      "metadata": {
        "id": "Uvj53CdWgMia"
      },
      "execution_count": null,
      "outputs": []
    },
    {
      "cell_type": "code",
      "source": [
        "iris=load_iris()\n",
        "X=iris.data\n",
        "y=iris.target\n",
        "print(X.shape)\n",
        "# parameter optimization\n",
        "rand_Classifier=RandomForestClassifier()\n",
        "X_train,X_test,y_train,y_test=train_test_split(X,y,test_size=.3,random_state=52)\n",
        "rand_Classifier.fit(X_train,y_train)\n",
        "pred_labels=rand_Classifier.predict(X_test)"
      ],
      "metadata": {
        "colab": {
          "base_uri": "https://localhost:8080/"
        },
        "id": "u5ZKxDXegNug",
        "outputId": "f9975e0f-a063-4a7e-99a2-f528cc9cacc1"
      },
      "execution_count": null,
      "outputs": [
        {
          "output_type": "stream",
          "name": "stdout",
          "text": [
            "(150, 4)\n"
          ]
        }
      ]
    },
    {
      "cell_type": "code",
      "source": [
        "# EVALUATION\n",
        "accuracy=accuracy_score(y_test,pred_labels)\n",
        "print(accuracy)\n",
        "f1_score_val=f1_score(y_test,pred_labels,average='weighted')\n",
        "print(f1_score_val)\n",
        "precision_val=precision_score(y_test,pred_labels,average='weighted')\n",
        "print(precision_val)\n",
        "recall_val=recall_score(y_test,pred_labels,average='weighted')\n",
        "print(recall_val)\n",
        "c=confusion_matrix(y_test,pred_labels)\n",
        "print(c)"
      ],
      "metadata": {
        "colab": {
          "base_uri": "https://localhost:8080/"
        },
        "id": "SdoGh0fXgN0p",
        "outputId": "8a27f0c1-ee33-4964-8e97-ce446e46c3b5"
      },
      "execution_count": null,
      "outputs": [
        {
          "output_type": "stream",
          "name": "stdout",
          "text": [
            "0.9333333333333333\n",
            "0.9328102295844231\n",
            "0.9433333333333334\n",
            "0.9333333333333333\n",
            "[[11  0  0]\n",
            " [ 0 14  3]\n",
            " [ 0  0 17]]\n"
          ]
        }
      ]
    },
    {
      "cell_type": "code",
      "source": [
        "!pip install --upgrade mlxtend"
      ],
      "metadata": {
        "colab": {
          "base_uri": "https://localhost:8080/",
          "height": 607
        },
        "id": "BJ_ZSdyah2dq",
        "outputId": "bb6a28a7-4064-4d26-ea9f-5f1d1e4bddbe"
      },
      "execution_count": null,
      "outputs": [
        {
          "output_type": "stream",
          "name": "stdout",
          "text": [
            "Looking in indexes: https://pypi.org/simple, https://us-python.pkg.dev/colab-wheels/public/simple/\n",
            "Requirement already satisfied: mlxtend in /usr/local/lib/python3.10/dist-packages (0.14.0)\n",
            "Collecting mlxtend\n",
            "  Downloading mlxtend-0.22.0-py2.py3-none-any.whl (1.4 MB)\n",
            "\u001b[2K     \u001b[90m━━━━━━━━━━━━━━━━━━━━━━━━━━━━━━━━━━━━━━━━\u001b[0m \u001b[32m1.4/1.4 MB\u001b[0m \u001b[31m17.4 MB/s\u001b[0m eta \u001b[36m0:00:00\u001b[0m\n",
            "\u001b[?25hRequirement already satisfied: scipy>=1.2.1 in /usr/local/lib/python3.10/dist-packages (from mlxtend) (1.10.1)\n",
            "Requirement already satisfied: numpy>=1.16.2 in /usr/local/lib/python3.10/dist-packages (from mlxtend) (1.22.4)\n",
            "Requirement already satisfied: pandas>=0.24.2 in /usr/local/lib/python3.10/dist-packages (from mlxtend) (1.5.3)\n",
            "Requirement already satisfied: scikit-learn>=1.0.2 in /usr/local/lib/python3.10/dist-packages (from mlxtend) (1.2.2)\n",
            "Requirement already satisfied: matplotlib>=3.0.0 in /usr/local/lib/python3.10/dist-packages (from mlxtend) (3.7.1)\n",
            "Requirement already satisfied: joblib>=0.13.2 in /usr/local/lib/python3.10/dist-packages (from mlxtend) (1.2.0)\n",
            "Requirement already satisfied: setuptools in /usr/local/lib/python3.10/dist-packages (from mlxtend) (67.7.2)\n",
            "Requirement already satisfied: contourpy>=1.0.1 in /usr/local/lib/python3.10/dist-packages (from matplotlib>=3.0.0->mlxtend) (1.1.0)\n",
            "Requirement already satisfied: cycler>=0.10 in /usr/local/lib/python3.10/dist-packages (from matplotlib>=3.0.0->mlxtend) (0.11.0)\n",
            "Requirement already satisfied: fonttools>=4.22.0 in /usr/local/lib/python3.10/dist-packages (from matplotlib>=3.0.0->mlxtend) (4.40.0)\n",
            "Requirement already satisfied: kiwisolver>=1.0.1 in /usr/local/lib/python3.10/dist-packages (from matplotlib>=3.0.0->mlxtend) (1.4.4)\n",
            "Requirement already satisfied: packaging>=20.0 in /usr/local/lib/python3.10/dist-packages (from matplotlib>=3.0.0->mlxtend) (23.1)\n",
            "Requirement already satisfied: pillow>=6.2.0 in /usr/local/lib/python3.10/dist-packages (from matplotlib>=3.0.0->mlxtend) (8.4.0)\n",
            "Requirement already satisfied: pyparsing>=2.3.1 in /usr/local/lib/python3.10/dist-packages (from matplotlib>=3.0.0->mlxtend) (3.1.0)\n",
            "Requirement already satisfied: python-dateutil>=2.7 in /usr/local/lib/python3.10/dist-packages (from matplotlib>=3.0.0->mlxtend) (2.8.2)\n",
            "Requirement already satisfied: pytz>=2020.1 in /usr/local/lib/python3.10/dist-packages (from pandas>=0.24.2->mlxtend) (2022.7.1)\n",
            "Requirement already satisfied: threadpoolctl>=2.0.0 in /usr/local/lib/python3.10/dist-packages (from scikit-learn>=1.0.2->mlxtend) (3.1.0)\n",
            "Requirement already satisfied: six>=1.5 in /usr/local/lib/python3.10/dist-packages (from python-dateutil>=2.7->matplotlib>=3.0.0->mlxtend) (1.16.0)\n",
            "Installing collected packages: mlxtend\n",
            "  Attempting uninstall: mlxtend\n",
            "    Found existing installation: mlxtend 0.14.0\n",
            "    Uninstalling mlxtend-0.14.0:\n",
            "      Successfully uninstalled mlxtend-0.14.0\n",
            "Successfully installed mlxtend-0.22.0\n"
          ]
        },
        {
          "output_type": "display_data",
          "data": {
            "application/vnd.colab-display-data+json": {
              "pip_warning": {
                "packages": [
                  "mlxtend"
                ]
              }
            }
          },
          "metadata": {}
        }
      ]
    },
    {
      "cell_type": "code",
      "source": [
        "import matplotlib.pyplot as plt\n",
        "import itertools\n",
        "from mlxtend.plotting import plot_decision_regions\n",
        "fig = plt.figure(figsize=(10, 8))\n",
        "labels = ['Random Forest']\n",
        "rand_Classifier=RandomForestClassifier()\n",
        "rand_Classifier.fit(X[:,[0,2]],y)\n",
        "fig = plot_decision_regions(X=X[:,[0,2]], y=y,clf=rand_Classifier, legend=2)\n",
        "plt.title(labels[0])\n",
        "\n",
        "plt.show()"
      ],
      "metadata": {
        "colab": {
          "base_uri": "https://localhost:8080/",
          "height": 699
        },
        "id": "dpXtgifNg2-r",
        "outputId": "d1c88667-5c43-4f69-b09b-303b1379d803"
      },
      "execution_count": null,
      "outputs": [
        {
          "output_type": "display_data",
          "data": {
            "text/plain": [
              "<Figure size 1000x800 with 1 Axes>"
            ],
            "image/png": "[encoded data removed]"
          },
          "metadata": {}
        }
      ]
    }
  ]
}