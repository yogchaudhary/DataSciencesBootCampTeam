{
  "nbformat": 4,
  "nbformat_minor": 0,
  "metadata": {
    "colab": {
      "provenance": []
    },
    "kernelspec": {
      "name": "python3",
      "display_name": "Python 3"
    },
    "language_info": {
      "name": "python"
    }
  },
  "cells": [
    {
      "cell_type": "code",
      "execution_count": null,
      "metadata": {
        "colab": {
          "base_uri": "https://localhost:8080/"
        },
        "id": "vi0LkVFIEPNC",
        "outputId": "49f53c16-cee8-4869-a9e1-74c8dd648bca"
      },
      "outputs": [
        {
          "output_type": "execute_result",
          "data": {
            "text/plain": [
              "['a', 'b', 'c', 'd', 'e', 'f', 'g']"
            ]
          },
          "metadata": {},
          "execution_count": 6
        }
      ],
      "source": [
        "# Question 1\n",
        "\n",
        "listOne  =  ['a', 'b', 'c', 'd']\n",
        "listTwo =  ['e', 'f', 'g']\n",
        "newList = listOne + listTwo\n",
        "newList\n",
        "#Answer A\n",
        "# listOne.extend(listTwo)\n",
        "# newList.extend(listOne, listTwo)"
      ]
    },
    {
      "cell_type": "code",
      "source": [
        "# QUESTION 2\n",
        "\n",
        "aList = [\"PYnative\", [4, 8, 12, 16]]\n",
        "print(aList[0][1])\n",
        "print(aList[1][3])\n",
        "\n",
        "# ANSWER C"
      ],
      "metadata": {
        "colab": {
          "base_uri": "https://localhost:8080/"
        },
        "id": "S8MWfoolE88V",
        "outputId": "7cfda942-dc1e-4f95-faaf-8bbab580a4cf"
      },
      "execution_count": null,
      "outputs": [
        {
          "output_type": "stream",
          "name": "stdout",
          "text": [
            "Y\n",
            "16\n"
          ]
        }
      ]
    },
    {
      "cell_type": "code",
      "source": [
        "# Question 3\n",
        "\n",
        "sampleList = [10, 20, 30, 40, 50]\n",
        "print(sampleList[-2])\n",
        "print(sampleList[-4:-1])\n",
        "# ANSWER A"
      ],
      "metadata": {
        "colab": {
          "base_uri": "https://localhost:8080/"
        },
        "id": "Bm0YCOj4Frdl",
        "outputId": "3112f5ae-860e-4e72-b8d0-5fc61342fc36"
      },
      "execution_count": null,
      "outputs": [
        {
          "output_type": "stream",
          "name": "stdout",
          "text": [
            "40\n",
            "[20, 30, 40]\n"
          ]
        }
      ]
    },
    {
      "cell_type": "code",
      "source": [
        "# QUESTION 4\n",
        "aList = [10, 20, 30, 40, 50, 60, 70, 80]\n",
        "print(aList[2:5])\n",
        "print(aList[:4])\n",
        "print(aList[3:])\n",
        "# Answer B"
      ],
      "metadata": {
        "colab": {
          "base_uri": "https://localhost:8080/"
        },
        "id": "Mbxw_3EeF93E",
        "outputId": "91216580-a452-4001-fca7-4b81eef0e497"
      },
      "execution_count": null,
      "outputs": [
        {
          "output_type": "stream",
          "name": "stdout",
          "text": [
            "[30, 40, 50]\n",
            "[10, 20, 30, 40]\n",
            "[40, 50, 60, 70, 80]\n"
          ]
        }
      ]
    },
    {
      "cell_type": "code",
      "source": [
        "# Question 5\n",
        "\n",
        "sampleList = [10, 20, 30, 40, 50]\n",
        "sampleList.append(60)\n",
        "print(sampleList)\n",
        "\n",
        "sampleList.append(60)\n",
        "print(sampleList)\n",
        "# Answer B"
      ],
      "metadata": {
        "colab": {
          "base_uri": "https://localhost:8080/"
        },
        "id": "NAdXU6NhGLxs",
        "outputId": "7a3f0beb-e31d-4018-e6a6-7916a5496858"
      },
      "execution_count": null,
      "outputs": [
        {
          "output_type": "stream",
          "name": "stdout",
          "text": [
            "[10, 20, 30, 40, 50, 60]\n",
            "[10, 20, 30, 40, 50, 60, 60]\n"
          ]
        }
      ]
    },
    {
      "cell_type": "code",
      "source": [
        "# Question 6\n",
        "my_list = [\"Hello\", \"Python\"]\n",
        "print(\"-\".join(my_list))\n",
        "# ANSWER B"
      ],
      "metadata": {
        "colab": {
          "base_uri": "https://localhost:8080/"
        },
        "id": "Qj-vUREJGYuE",
        "outputId": "59bcc561-9efa-40e8-b773-8289c6a4fecc"
      },
      "execution_count": null,
      "outputs": [
        {
          "output_type": "stream",
          "name": "stdout",
          "text": [
            "Hello-Python\n"
          ]
        }
      ]
    },
    {
      "cell_type": "code",
      "source": [
        "# Quesion 7. In Python, list is mutable\n",
        "# Answer True (B)"
      ],
      "metadata": {
        "id": "ZkPkgHovGk3N"
      },
      "execution_count": null,
      "outputs": []
    },
    {
      "cell_type": "code",
      "source": [
        "# Question 8\n",
        "resList = [x+y for x in ['Hello ', 'Good '] for y in ['Dear', 'Bye']]\n",
        "print(resList)\n",
        "# Answer A"
      ],
      "metadata": {
        "colab": {
          "base_uri": "https://localhost:8080/"
        },
        "id": "siHiJPbkGuxE",
        "outputId": "d11127e4-3fb8-4069-a292-0d912db0b79f"
      },
      "execution_count": null,
      "outputs": [
        {
          "output_type": "stream",
          "name": "stdout",
          "text": [
            "['Hello Dear', 'Hello Bye', 'Good Dear', 'Good Bye']\n"
          ]
        }
      ]
    },
    {
      "cell_type": "code",
      "source": [
        "# Explanation for 8th\n",
        "for x in ['Hello ', 'Good ']:\n",
        "  for y in ['Dear', 'Bye']:\n",
        "    print(x+y)"
      ],
      "metadata": {
        "colab": {
          "base_uri": "https://localhost:8080/"
        },
        "id": "EqeMZeFjG959",
        "outputId": "b63f57a7-9334-484d-ef22-26fefc57c64a"
      },
      "execution_count": null,
      "outputs": [
        {
          "output_type": "stream",
          "name": "stdout",
          "text": [
            "Hello Dear\n",
            "Hello Bye\n",
            "Good Dear\n",
            "Good Bye\n"
          ]
        }
      ]
    },
    {
      "cell_type": "code",
      "source": [
        "# 9. What is the output of the following?\n",
        "aList = [5, 10, 15, 25]\n",
        "print(aList[::-2])\n",
        "# as we are doing negetive steps it default starts from -1 and goes till  -4\n",
        "# Answer C"
      ],
      "metadata": {
        "colab": {
          "base_uri": "https://localhost:8080/"
        },
        "id": "N2lStFmGHW5E",
        "outputId": "c1c2bff4-ae35-4e4a-b592-19d919f5417d"
      },
      "execution_count": null,
      "outputs": [
        {
          "output_type": "stream",
          "name": "stdout",
          "text": [
            "[25, 10]\n"
          ]
        }
      ]
    },
    {
      "cell_type": "code",
      "source": [
        "# Question 10\n",
        "list1 = ['xyz', 'zara', 'PYnative']\n",
        "print (max(list1))\n",
        "# Answer B its zara as it starts from z"
      ],
      "metadata": {
        "colab": {
          "base_uri": "https://localhost:8080/"
        },
        "id": "9NPG4pfLH6XE",
        "outputId": "69f30dc2-d9cb-4b52-bdac-b26bc501ee86"
      },
      "execution_count": null,
      "outputs": [
        {
          "output_type": "stream",
          "name": "stdout",
          "text": [
            "zara\n"
          ]
        }
      ]
    },
    {
      "cell_type": "code",
      "source": [
        "# Question 11\n",
        "aList = [1, 2, 3, 4, 5, 6, 7]\n",
        "pow2 =  [2 * x for x in aList]\n",
        "print(pow2)\n",
        "# Answer A"
      ],
      "metadata": {
        "colab": {
          "base_uri": "https://localhost:8080/"
        },
        "id": "7E_8wkP4IQM8",
        "outputId": "954023ec-470f-403c-d3f8-1e5a3e25ec16"
      },
      "execution_count": null,
      "outputs": [
        {
          "output_type": "stream",
          "name": "stdout",
          "text": [
            "[2, 4, 6, 8, 10, 12, 14]\n"
          ]
        }
      ]
    },
    {
      "cell_type": "code",
      "source": [
        "# Question 12\n",
        "sampleList = [10, 20, 30, 40]\n",
        "del sampleList[0:6]\n",
        "print(sampleList)\n",
        "# Answer A"
      ],
      "metadata": {
        "colab": {
          "base_uri": "https://localhost:8080/"
        },
        "id": "GjyGFRFUIoDU",
        "outputId": "91638ee6-66a9-4b7c-a038-81db5c84518a"
      },
      "execution_count": null,
      "outputs": [
        {
          "output_type": "stream",
          "name": "stdout",
          "text": [
            "[]\n"
          ]
        }
      ]
    },
    {
      "cell_type": "code",
      "source": [
        "# Question 13\n",
        "aList = [4, 8, 12, 16]\n",
        "aList[1:4] = [20, 24, 28]\n",
        "print(aList)\n",
        "# Answer B"
      ],
      "metadata": {
        "colab": {
          "base_uri": "https://localhost:8080/"
        },
        "id": "pyRZi0O_JQoW",
        "outputId": "aba70c17-ab5e-467d-9a7b-2911db46acaf"
      },
      "execution_count": null,
      "outputs": [
        {
          "output_type": "stream",
          "name": "stdout",
          "text": [
            "[4, 20, 24, 28]\n"
          ]
        }
      ]
    },
    {
      "cell_type": "code",
      "source": [
        "# Question 14 What is the output of the following\n",
        "l = [None] * 10\n",
        "print(len(l))"
      ],
      "metadata": {
        "colab": {
          "base_uri": "https://localhost:8080/"
        },
        "id": "fayTFi-cJc9T",
        "outputId": "f91653d9-5805-40f1-8dec-35ce0754fcad"
      },
      "execution_count": null,
      "outputs": [
        {
          "output_type": "stream",
          "name": "stdout",
          "text": [
            "10\n"
          ]
        }
      ]
    },
    {
      "cell_type": "code",
      "source": [
        "# Question 15\n",
        "aList = ['a', 'b', 'c', 'd']\n",
        "# newList = copy(aList)\n",
        "newList = aList.copy()\n",
        "# print(newList)\n",
        "# newList.copy(aList)\n",
        "newList = list(aList)\n",
        "print(newList)\n",
        "# Answer B,D"
      ],
      "metadata": {
        "colab": {
          "base_uri": "https://localhost:8080/"
        },
        "id": "6gnldZiBJm0D",
        "outputId": "2bad8fce-b1f8-438c-9790-183c2175fe25"
      },
      "execution_count": null,
      "outputs": [
        {
          "output_type": "stream",
          "name": "stdout",
          "text": [
            "['a', 'b', 'c', 'd']\n"
          ]
        }
      ]
    },
    {
      "cell_type": "code",
      "source": [
        "# Question 16\n",
        "sampleList = [10, 20, 30, 40, 50]\n",
        "sampleList.pop()\n",
        "print(sampleList)\n",
        "sampleList.pop(2)\n",
        "print(sampleList)\n",
        "# Answer C"
      ],
      "metadata": {
        "colab": {
          "base_uri": "https://localhost:8080/"
        },
        "id": "nOMPPdBxKOCr",
        "outputId": "b7cb25ff-11c1-401a-a9d9-656de58a9b21"
      },
      "execution_count": null,
      "outputs": [
        {
          "output_type": "stream",
          "name": "stdout",
          "text": [
            "[10, 20, 30, 40]\n",
            "[10, 20, 40]\n"
          ]
        }
      ]
    },
    {
      "cell_type": "code",
      "source": [
        "# Question 17\n",
        "set1 = {\"Yellow\", \"Orange\", \"Black\"}\n",
        "set2 = {\"Orange\", \"Blue\", \"Pink\"}\n",
        "set3 = set2.difference(set1)\n",
        "print(set3)"
      ],
      "metadata": {
        "colab": {
          "base_uri": "https://localhost:8080/"
        },
        "id": "wLqwjRDvKh7d",
        "outputId": "b8304cc8-c00d-4fcb-e6b7-efe324a6c98d"
      },
      "execution_count": null,
      "outputs": [
        {
          "output_type": "stream",
          "name": "stdout",
          "text": [
            "{'Pink', 'Blue'}\n"
          ]
        }
      ]
    },
    {
      "cell_type": "code",
      "source": [
        "set1 = {10, 20, 30, 40, 50}\n",
        "set2 = {60, 70, 10, 30, 40, 80, 20, 50}\n",
        "\n",
        "print(set1.issubset(set2))\n",
        "print(set2.issuperset(set1))\n",
        "# Answer B"
      ],
      "metadata": {
        "colab": {
          "base_uri": "https://localhost:8080/"
        },
        "id": "JhZTXowQK2h7",
        "outputId": "ae0e8f7f-b2f1-4cde-e108-382ebd045ff5"
      },
      "execution_count": null,
      "outputs": [
        {
          "output_type": "stream",
          "name": "stdout",
          "text": [
            "True\n",
            "True\n"
          ]
        }
      ]
    },
    {
      "cell_type": "code",
      "source": [
        "set1 = {\"Yellow\", \"Orange\", \"Black\"}\n",
        "set2 = {\"Orange\", \"Blue\", \"Pink\"}\n",
        "set1.union(set2)\n",
        "# Answr b"
      ],
      "metadata": {
        "colab": {
          "base_uri": "https://localhost:8080/"
        },
        "id": "-aOKw1VGLBPz",
        "outputId": "91b4ac63-5238-47c1-bc02-d4d6f38aa515"
      },
      "execution_count": null,
      "outputs": [
        {
          "output_type": "execute_result",
          "data": {
            "text/plain": [
              "{'Black', 'Blue', 'Orange', 'Pink', 'Yellow'}"
            ]
          },
          "metadata": {},
          "execution_count": 39
        }
      ]
    },
    {
      "cell_type": "code",
      "source": [
        "sampleSet = {\"Yellow\", \"Orange\", \"Black\"}\n",
        "sampleSet.discard(\"Blue\")\n",
        "print(sampleSet)\n",
        "# Answer A"
      ],
      "metadata": {
        "colab": {
          "base_uri": "https://localhost:8080/"
        },
        "id": "3fS6_koALYiz",
        "outputId": "237d49c8-480e-4e13-fbf9-4e76d296a9bb"
      },
      "execution_count": null,
      "outputs": [
        {
          "output_type": "stream",
          "name": "stdout",
          "text": [
            "{'Black', 'Orange', 'Yellow'}\n"
          ]
        }
      ]
    },
    {
      "cell_type": "code",
      "source": [
        "sampleSet = {\"Yellow\", \"Orange\", \"Black\"}\n",
        "print(sampleSet[1])\n",
        "# Answer b"
      ],
      "metadata": {
        "colab": {
          "base_uri": "https://localhost:8080/",
          "height": 183
        },
        "id": "TwfpJ7Z0LnRO",
        "outputId": "86ebdf18-6ef9-46b7-fffc-364bb900bf8b"
      },
      "execution_count": null,
      "outputs": [
        {
          "output_type": "error",
          "ename": "TypeError",
          "evalue": "ignored",
          "traceback": [
            "\u001b[0;31m---------------------------------------------------------------------------\u001b[0m",
            "\u001b[0;31mTypeError\u001b[0m                                 Traceback (most recent call last)",
            "\u001b[0;32m<ipython-input-41-8d0cd0dab655>\u001b[0m in \u001b[0;36m<cell line: 2>\u001b[0;34m()\u001b[0m\n\u001b[1;32m      1\u001b[0m \u001b[0msampleSet\u001b[0m \u001b[0;34m=\u001b[0m \u001b[0;34m{\u001b[0m\u001b[0;34m\"Yellow\"\u001b[0m\u001b[0;34m,\u001b[0m \u001b[0;34m\"Orange\"\u001b[0m\u001b[0;34m,\u001b[0m \u001b[0;34m\"Black\"\u001b[0m\u001b[0;34m}\u001b[0m\u001b[0;34m\u001b[0m\u001b[0;34m\u001b[0m\u001b[0m\n\u001b[0;32m----> 2\u001b[0;31m \u001b[0mprint\u001b[0m\u001b[0;34m(\u001b[0m\u001b[0msampleSet\u001b[0m\u001b[0;34m[\u001b[0m\u001b[0;36m1\u001b[0m\u001b[0;34m]\u001b[0m\u001b[0;34m)\u001b[0m\u001b[0;34m\u001b[0m\u001b[0;34m\u001b[0m\u001b[0m\n\u001b[0m",
            "\u001b[0;31mTypeError\u001b[0m: 'set' object is not subscriptable"
          ]
        }
      ]
    },
    {
      "cell_type": "code",
      "source": [
        "sampleSet = {\"Yellow\", \"Orange\", \"Black\"}\n",
        "sampleSet.update([\"Blue\", \"Green\", \"Red\"])\n",
        "print(sampleSet)\n",
        "# Answer A"
      ],
      "metadata": {
        "colab": {
          "base_uri": "https://localhost:8080/"
        },
        "id": "-0QpfitNLt7E",
        "outputId": "966cbf78-3631-45d3-cfdd-8591361840d1"
      },
      "execution_count": null,
      "outputs": [
        {
          "output_type": "stream",
          "name": "stdout",
          "text": [
            "{'Orange', 'Black', 'Green', 'Yellow', 'Red', 'Blue'}\n"
          ]
        }
      ]
    },
    {
      "cell_type": "code",
      "source": [
        "set1 = {\"Yellow\", \"Orange\", \"Black\"}\n",
        "set2 = {\"Orange\", \"Blue\", \"Pink\"}\n",
        "set1.symmetric_difference(set2)\n",
        "# Answer b"
      ],
      "metadata": {
        "colab": {
          "base_uri": "https://localhost:8080/"
        },
        "id": "efqvIp0zL6KT",
        "outputId": "d46c5fa4-af5b-4d03-a5e7-28c6d11eccfe"
      },
      "execution_count": null,
      "outputs": [
        {
          "output_type": "execute_result",
          "data": {
            "text/plain": [
              "{'Black', 'Blue', 'Pink', 'Yellow'}"
            ]
          },
          "metadata": {},
          "execution_count": 43
        }
      ]
    },
    {
      "cell_type": "code",
      "source": [
        "set2 = set1\n",
        "print(set2)"
      ],
      "metadata": {
        "colab": {
          "base_uri": "https://localhost:8080/"
        },
        "id": "-sR1PR5xMeaj",
        "outputId": "719390f8-9840-4eec-f239-7734c73380ca"
      },
      "execution_count": null,
      "outputs": [
        {
          "output_type": "stream",
          "name": "stdout",
          "text": [
            "{'Black', 'Orange', 'Yellow'}\n"
          ]
        }
      ]
    },
    {
      "cell_type": "code",
      "source": [
        "set2 = set1.copy()\n",
        "set2 = set(set1)\n",
        "set2.update(set1)\n",
        "print(set2)\n",
        "# A B"
      ],
      "metadata": {
        "colab": {
          "base_uri": "https://localhost:8080/"
        },
        "id": "yaqTRmU_MN8r",
        "outputId": "68c7f2e2-6d00-4967-9d9a-358c2def5a7f"
      },
      "execution_count": null,
      "outputs": [
        {
          "output_type": "stream",
          "name": "stdout",
          "text": [
            "{'Orange', 'Yellow', 'Black'}\n"
          ]
        }
      ]
    },
    {
      "cell_type": "code",
      "source": [
        "aSet = {1, 'PYnative', 'abc', 'xyz',True}\n",
        "print(aSet)\n",
        "# Answer C"
      ],
      "metadata": {
        "colab": {
          "base_uri": "https://localhost:8080/"
        },
        "id": "8zkj0GysMqqr",
        "outputId": "860d25c2-f97d-4fc9-c6e6-d3665a836fa3"
      },
      "execution_count": null,
      "outputs": [
        {
          "output_type": "stream",
          "name": "stdout",
          "text": [
            "{1, 'xyz', 'abc', 'PYnative'}\n"
          ]
        }
      ]
    },
    {
      "cell_type": "code",
      "source": [
        "# Question 26\n",
        "# Answer A"
      ],
      "metadata": {
        "id": "4RTJociPNQpj"
      },
      "execution_count": null,
      "outputs": []
    },
    {
      "cell_type": "code",
      "source": [
        "set1 = {10, 20, 30, 40}\n",
        "set2 = {50, 20, \"10\", 60}\n",
        "\n",
        "set3 = set1.union(set2)\n",
        "print(set3)\n",
        "# Answer C"
      ],
      "metadata": {
        "colab": {
          "base_uri": "https://localhost:8080/"
        },
        "id": "zoMzOBdoNVWq",
        "outputId": "d0f92253-0450-4b5d-d959-6f6bc4a74fee"
      },
      "execution_count": null,
      "outputs": [
        {
          "output_type": "stream",
          "name": "stdout",
          "text": [
            "{40, 10, 50, 20, '10', 60, 30}\n"
          ]
        }
      ]
    },
    {
      "cell_type": "code",
      "source": [
        "set1 = {\"Yellow\", \"Orange\", \"Black\"}\n",
        "set2 = {\"Orange\",\"Blue\", \"Pink\"}\n",
        "set1.isdisjoint(set2)\n",
        "# Answer A True"
      ],
      "metadata": {
        "colab": {
          "base_uri": "https://localhost:8080/"
        },
        "id": "EatcpXVbNh10",
        "outputId": "5e2e385a-5257-4637-a669-1411765899c9"
      },
      "execution_count": null,
      "outputs": [
        {
          "output_type": "execute_result",
          "data": {
            "text/plain": [
              "False"
            ]
          },
          "metadata": {},
          "execution_count": 53
        }
      ]
    },
    {
      "cell_type": "code",
      "source": [
        "aSet = {1, 'PYnative', ('abc', 'xyz'), True}\n",
        "print(aSet)\n",
        "# answer C"
      ],
      "metadata": {
        "colab": {
          "base_uri": "https://localhost:8080/"
        },
        "id": "D4HEuExyNvBj",
        "outputId": "01916072-e3ad-462f-b9cc-403afda674b1"
      },
      "execution_count": null,
      "outputs": [
        {
          "output_type": "stream",
          "name": "stdout",
          "text": [
            "{1, ('abc', 'xyz'), 'PYnative'}\n"
          ]
        }
      ]
    },
    {
      "cell_type": "code",
      "source": [
        "set1 = {\"Yellow\", \"Orange\", \"Black\"}\n",
        "set2 = {\"Orange\", \"Blue\", \"Pink\"}\n",
        "\n",
        "set1.difference_update(set2)\n",
        "print(set1)\n",
        "# Answer A"
      ],
      "metadata": {
        "colab": {
          "base_uri": "https://localhost:8080/"
        },
        "id": "CEz_IbqdOHJb",
        "outputId": "cc61bc05-6381-444a-f8a0-94d1dd9f35f7"
      },
      "execution_count": null,
      "outputs": [
        {
          "output_type": "stream",
          "name": "stdout",
          "text": [
            "{'Black', 'Yellow'}\n"
          ]
        }
      ]
    },
    {
      "cell_type": "code",
      "source": [
        "sampleSet = {\"Yellow\", \"Orange\", \"Black\"}\n",
        "sampleSet.add(\"Blue\")\n",
        "sampleSet.add(\"Orange\")\n",
        "print(sampleSet)\n",
        "# Answer b"
      ],
      "metadata": {
        "colab": {
          "base_uri": "https://localhost:8080/"
        },
        "id": "9iskR0n1OUQ7",
        "outputId": "9f9b719e-fb0a-493d-beba-5d0a9eda395a"
      },
      "execution_count": null,
      "outputs": [
        {
          "output_type": "stream",
          "name": "stdout",
          "text": [
            "{'Black', 'Orange', 'Blue', 'Yellow'}\n"
          ]
        }
      ]
    },
    {
      "cell_type": "code",
      "source": [
        "sampleSet = {\"Yellow\", \"Orange\", \"Black\"}\n",
        "#sampleSet.pop(\"Orange\")\n",
        "sampleSet.discard(\"Orange\")\n",
        "print(sampleSet)"
      ],
      "metadata": {
        "colab": {
          "base_uri": "https://localhost:8080/"
        },
        "id": "0SKxvCp7OcSD",
        "outputId": "1f2ac8ad-e18f-4bd7-8ab9-94a1a300f22c"
      },
      "execution_count": null,
      "outputs": [
        {
          "output_type": "stream",
          "name": "stdout",
          "text": [
            "{'Black', 'Yellow'}\n"
          ]
        }
      ]
    },
    {
      "cell_type": "code",
      "source": [
        "sampleSet = {\"Yellow\", \"Orange\", \"Black\"}\n",
        "del sampleSet [\"Orange\"]\n",
        "# Answer B"
      ],
      "metadata": {
        "colab": {
          "base_uri": "https://localhost:8080/",
          "height": 183
        },
        "id": "MU6DC7-KOwOa",
        "outputId": "cd420944-6acf-4090-ed4e-dd02a758330e"
      },
      "execution_count": null,
      "outputs": [
        {
          "output_type": "error",
          "ename": "TypeError",
          "evalue": "ignored",
          "traceback": [
            "\u001b[0;31m---------------------------------------------------------------------------\u001b[0m",
            "\u001b[0;31mTypeError\u001b[0m                                 Traceback (most recent call last)",
            "\u001b[0;32m<ipython-input-62-9212b82035d0>\u001b[0m in \u001b[0;36m<cell line: 2>\u001b[0;34m()\u001b[0m\n\u001b[1;32m      1\u001b[0m \u001b[0msampleSet\u001b[0m \u001b[0;34m=\u001b[0m \u001b[0;34m{\u001b[0m\u001b[0;34m\"Yellow\"\u001b[0m\u001b[0;34m,\u001b[0m \u001b[0;34m\"Orange\"\u001b[0m\u001b[0;34m,\u001b[0m \u001b[0;34m\"Black\"\u001b[0m\u001b[0;34m}\u001b[0m\u001b[0;34m\u001b[0m\u001b[0;34m\u001b[0m\u001b[0m\n\u001b[0;32m----> 2\u001b[0;31m \u001b[0;32mdel\u001b[0m \u001b[0msampleSet\u001b[0m \u001b[0;34m[\u001b[0m\u001b[0;34m\"Orange\"\u001b[0m\u001b[0;34m]\u001b[0m\u001b[0;34m\u001b[0m\u001b[0;34m\u001b[0m\u001b[0m\n\u001b[0m",
            "\u001b[0;31mTypeError\u001b[0m: 'set' object does not support item deletion"
          ]
        }
      ]
    }
  ]
}