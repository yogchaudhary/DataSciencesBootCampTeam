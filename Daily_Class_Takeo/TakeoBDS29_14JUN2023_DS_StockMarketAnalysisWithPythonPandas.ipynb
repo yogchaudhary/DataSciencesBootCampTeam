{
  "nbformat": 4,
  "nbformat_minor": 0,
  "metadata": {
    "colab": {
      "provenance": []
    },
    "kernelspec": {
      "name": "python3",
      "display_name": "Python 3"
    },
    "language_info": {
      "name": "python"
    }
  },
  "cells": [
    {
      "cell_type": "markdown",
      "source": [
        "#**Stock Market Analysis With Python Pandas**"
      ],
      "metadata": {
        "id": "ETCtSPllToDc"
      }
    },
    {
      "cell_type": "code",
      "execution_count": null,
      "metadata": {
        "id": "NfdlP4m_RRWg"
      },
      "outputs": [],
      "source": [
        "import pandas_datareader.data as web\n",
        "import datetime\n",
        "import matplotlib.pyplot as plt\n",
        "import numpy as np\n",
        "import yfinance as yf\n",
        "%matplotlib inline"
      ]
    },
    {
      "cell_type": "code",
      "source": [
        "from pandas_datareader import data as pdr\n",
        "\n",
        "import yfinance as yf\n",
        "yf.pdr_override() # <== that's all it takes :-)\n",
        "\n",
        "# download dataframe\n",
        "data = pdr.get_data_yahoo(\"SPY\", start=\"2017-01-01\", end=\"2017-04-30\")"
      ],
      "metadata": {
        "colab": {
          "base_uri": "https://localhost:8080/"
        },
        "id": "1Gj_D2cqnndj",
        "outputId": "474aa60e-0b51-4bdb-d367-e5dd1f31d436"
      },
      "execution_count": null,
      "outputs": [
        {
          "output_type": "stream",
          "name": "stdout",
          "text": [
            "\r[*********************100%***********************]  1 of 1 completed\n"
          ]
        }
      ]
    },
    {
      "cell_type": "code",
      "source": [
        "start = datetime.datetime(2012,1,1)\n",
        "end = datetime.datetime(2023,6,14)"
      ],
      "metadata": {
        "id": "Rj6EvprDcgW2"
      },
      "execution_count": null,
      "outputs": []
    },
    {
      "cell_type": "code",
      "source": [
        "# tesla = web.DataReader(\"yahoo\",start,end)\n",
        "# att = web.DataReader('F', 'yahoo', start, end)\n",
        "\n",
        "google = yf.download('GOOGL', start=start, end= end)\n",
        "tesla = yf.download('TSLA', start=start, end= end)"
      ],
      "metadata": {
        "id": "ecKxpcitc3s5"
      },
      "execution_count": null,
      "outputs": []
    },
    {
      "cell_type": "code",
      "source": [
        "tesla"
      ],
      "metadata": {
        "id": "HO44P9SphdUL"
      },
      "execution_count": null,
      "outputs": []
    },
    {
      "cell_type": "code",
      "source": [
        "google"
      ],
      "metadata": {
        "colab": {
          "base_uri": "https://localhost:8080/",
          "height": 455
        },
        "id": "aVVa-V5kiAgz",
        "outputId": "0ded49d4-3877-4350-ba58-743585d15374"
      },
      "execution_count": null,
      "outputs": [
        {
          "output_type": "execute_result",
          "data": {
            "text/plain": [
              "                  Open        High         Low       Close   Adj Close  \\\n",
              "Date                                                                     \n",
              "2012-01-03   16.339840   16.720470   16.325577   16.651901   16.651901   \n",
              "2012-01-04   16.642391   16.773024   16.532032   16.723724   16.723724   \n",
              "2012-01-05   16.569820   16.615866   16.422173   16.491741   16.491741   \n",
              "2012-01-06   16.495245   16.516518   16.261011   16.266768   16.266768   \n",
              "2012-01-09   16.178679   16.191191   15.546296   15.577077   15.577077   \n",
              "...                ...         ...         ...         ...         ...   \n",
              "2023-06-07  126.970001  129.039993  122.120003  122.500000  122.500000   \n",
              "2023-06-08  122.230003  123.230003  121.239998  122.139999  122.139999   \n",
              "2023-06-09  122.250000  123.760002  121.910004  122.230003  122.230003   \n",
              "2023-06-12  122.790001  124.050003  121.660004  123.639999  123.639999   \n",
              "2023-06-13  124.980003  125.160004  123.180000  123.830002  123.830002   \n",
              "\n",
              "               Volume  High-Low  \n",
              "Date                             \n",
              "2012-01-03  146912940  0.394894  \n",
              "2012-01-04  114445440  0.240992  \n",
              "2012-01-05  131184684  0.193693  \n",
              "2012-01-06  107608284  0.255507  \n",
              "2012-01-09  232671096  0.644895  \n",
              "...               ...       ...  \n",
              "2023-06-07   52539000  6.919991  \n",
              "2023-06-08   29389200  1.990005  \n",
              "2023-06-09   23762500  1.849998  \n",
              "2023-06-12   28306400  2.389999  \n",
              "2023-06-13   22278300  1.980003  \n",
              "\n",
              "[2880 rows x 7 columns]"
            ],
            "text/html": [
              "\n",
              "  <div id=\"df-ba015829-4c01-411d-bb84-9c7861c4ecf0\">\n",
              "    <div class=\"colab-df-container\">\n",
              "      <div>\n",
              "<style scoped>\n",
              "    .dataframe tbody tr th:only-of-type {\n",
              "        vertical-align: middle;\n",
              "    }\n",
              "\n",
              "    .dataframe tbody tr th {\n",
              "        vertical-align: top;\n",
              "    }\n",
              "\n",
              "    .dataframe thead th {\n",
              "        text-align: right;\n",
              "    }\n",
              "</style>\n",
              "<table border=\"1\" class=\"dataframe\">\n",
              "  <thead>\n",
              "    <tr style=\"text-align: right;\">\n",
              "      <th></th>\n",
              "      <th>Open</th>\n",
              "      <th>High</th>\n",
              "      <th>Low</th>\n",
              "      <th>Close</th>\n",
              "      <th>Adj Close</th>\n",
              "      <th>Volume</th>\n",
              "      <th>High-Low</th>\n",
              "    </tr>\n",
              "    <tr>\n",
              "      <th>Date</th>\n",
              "      <th></th>\n",
              "      <th></th>\n",
              "      <th></th>\n",
              "      <th></th>\n",
              "      <th></th>\n",
              "      <th></th>\n",
              "      <th></th>\n",
              "    </tr>\n",
              "  </thead>\n",
              "  <tbody>\n",
              "    <tr>\n",
              "      <th>2012-01-03</th>\n",
              "      <td>16.339840</td>\n",
              "      <td>16.720470</td>\n",
              "      <td>16.325577</td>\n",
              "      <td>16.651901</td>\n",
              "      <td>16.651901</td>\n",
              "      <td>146912940</td>\n",
              "      <td>0.394894</td>\n",
              "    </tr>\n",
              "    <tr>\n",
              "      <th>2012-01-04</th>\n",
              "      <td>16.642391</td>\n",
              "      <td>16.773024</td>\n",
              "      <td>16.532032</td>\n",
              "      <td>16.723724</td>\n",
              "      <td>16.723724</td>\n",
              "      <td>114445440</td>\n",
              "      <td>0.240992</td>\n",
              "    </tr>\n",
              "    <tr>\n",
              "      <th>2012-01-05</th>\n",
              "      <td>16.569820</td>\n",
              "      <td>16.615866</td>\n",
              "      <td>16.422173</td>\n",
              "      <td>16.491741</td>\n",
              "      <td>16.491741</td>\n",
              "      <td>131184684</td>\n",
              "      <td>0.193693</td>\n",
              "    </tr>\n",
              "    <tr>\n",
              "      <th>2012-01-06</th>\n",
              "      <td>16.495245</td>\n",
              "      <td>16.516518</td>\n",
              "      <td>16.261011</td>\n",
              "      <td>16.266768</td>\n",
              "      <td>16.266768</td>\n",
              "      <td>107608284</td>\n",
              "      <td>0.255507</td>\n",
              "    </tr>\n",
              "    <tr>\n",
              "      <th>2012-01-09</th>\n",
              "      <td>16.178679</td>\n",
              "      <td>16.191191</td>\n",
              "      <td>15.546296</td>\n",
              "      <td>15.577077</td>\n",
              "      <td>15.577077</td>\n",
              "      <td>232671096</td>\n",
              "      <td>0.644895</td>\n",
              "    </tr>\n",
              "    <tr>\n",
              "      <th>...</th>\n",
              "      <td>...</td>\n",
              "      <td>...</td>\n",
              "      <td>...</td>\n",
              "      <td>...</td>\n",
              "      <td>...</td>\n",
              "      <td>...</td>\n",
              "      <td>...</td>\n",
              "    </tr>\n",
              "    <tr>\n",
              "      <th>2023-06-07</th>\n",
              "      <td>126.970001</td>\n",
              "      <td>129.039993</td>\n",
              "      <td>122.120003</td>\n",
              "      <td>122.500000</td>\n",
              "      <td>122.500000</td>\n",
              "      <td>52539000</td>\n",
              "      <td>6.919991</td>\n",
              "    </tr>\n",
              "    <tr>\n",
              "      <th>2023-06-08</th>\n",
              "      <td>122.230003</td>\n",
              "      <td>123.230003</td>\n",
              "      <td>121.239998</td>\n",
              "      <td>122.139999</td>\n",
              "      <td>122.139999</td>\n",
              "      <td>29389200</td>\n",
              "      <td>1.990005</td>\n",
              "    </tr>\n",
              "    <tr>\n",
              "      <th>2023-06-09</th>\n",
              "      <td>122.250000</td>\n",
              "      <td>123.760002</td>\n",
              "      <td>121.910004</td>\n",
              "      <td>122.230003</td>\n",
              "      <td>122.230003</td>\n",
              "      <td>23762500</td>\n",
              "      <td>1.849998</td>\n",
              "    </tr>\n",
              "    <tr>\n",
              "      <th>2023-06-12</th>\n",
              "      <td>122.790001</td>\n",
              "      <td>124.050003</td>\n",
              "      <td>121.660004</td>\n",
              "      <td>123.639999</td>\n",
              "      <td>123.639999</td>\n",
              "      <td>28306400</td>\n",
              "      <td>2.389999</td>\n",
              "    </tr>\n",
              "    <tr>\n",
              "      <th>2023-06-13</th>\n",
              "      <td>124.980003</td>\n",
              "      <td>125.160004</td>\n",
              "      <td>123.180000</td>\n",
              "      <td>123.830002</td>\n",
              "      <td>123.830002</td>\n",
              "      <td>22278300</td>\n",
              "      <td>1.980003</td>\n",
              "    </tr>\n",
              "  </tbody>\n",
              "</table>\n",
              "<p>2880 rows × 7 columns</p>\n",
              "</div>\n",
              "      <button class=\"colab-df-convert\" onclick=\"convertToInteractive('df-ba015829-4c01-411d-bb84-9c7861c4ecf0')\"\n",
              "              title=\"Convert this dataframe to an interactive table.\"\n",
              "              style=\"display:none;\">\n",
              "        \n",
              "  <svg xmlns=\"http://www.w3.org/2000/svg\" height=\"24px\"viewBox=\"0 0 24 24\"\n",
              "       width=\"24px\">\n",
              "    <path d=\"M0 0h24v24H0V0z\" fill=\"none\"/>\n",
              "    <path d=\"M18.56 5.44l.94 2.06.94-2.06 2.06-.94-2.06-.94-.94-2.06-.94 2.06-2.06.94zm-11 1L8.5 8.5l.94-2.06 2.06-.94-2.06-.94L8.5 2.5l-.94 2.06-2.06.94zm10 10l.94 2.06.94-2.06 2.06-.94-2.06-.94-.94-2.06-.94 2.06-2.06.94z\"/><path d=\"M17.41 7.96l-1.37-1.37c-.4-.4-.92-.59-1.43-.59-.52 0-1.04.2-1.43.59L10.3 9.45l-7.72 7.72c-.78.78-.78 2.05 0 2.83L4 21.41c.39.39.9.59 1.41.59.51 0 1.02-.2 1.41-.59l7.78-7.78 2.81-2.81c.8-.78.8-2.07 0-2.86zM5.41 20L4 18.59l7.72-7.72 1.47 1.35L5.41 20z\"/>\n",
              "  </svg>\n",
              "      </button>\n",
              "      \n",
              "  <style>\n",
              "    .colab-df-container {\n",
              "      display:flex;\n",
              "      flex-wrap:wrap;\n",
              "      gap: 12px;\n",
              "    }\n",
              "\n",
              "    .colab-df-convert {\n",
              "      background-color: #E8F0FE;\n",
              "      border: none;\n",
              "      border-radius: 50%;\n",
              "      cursor: pointer;\n",
              "      display: none;\n",
              "      fill: #1967D2;\n",
              "      height: 32px;\n",
              "      padding: 0 0 0 0;\n",
              "      width: 32px;\n",
              "    }\n",
              "\n",
              "    .colab-df-convert:hover {\n",
              "      background-color: #E2EBFA;\n",
              "      box-shadow: 0px 1px 2px rgba(60, 64, 67, 0.3), 0px 1px 3px 1px rgba(60, 64, 67, 0.15);\n",
              "      fill: #174EA6;\n",
              "    }\n",
              "\n",
              "    [theme=dark] .colab-df-convert {\n",
              "      background-color: #3B4455;\n",
              "      fill: #D2E3FC;\n",
              "    }\n",
              "\n",
              "    [theme=dark] .colab-df-convert:hover {\n",
              "      background-color: #434B5C;\n",
              "      box-shadow: 0px 1px 3px 1px rgba(0, 0, 0, 0.15);\n",
              "      filter: drop-shadow(0px 1px 2px rgba(0, 0, 0, 0.3));\n",
              "      fill: #FFFFFF;\n",
              "    }\n",
              "  </style>\n",
              "\n",
              "      <script>\n",
              "        const buttonEl =\n",
              "          document.querySelector('#df-ba015829-4c01-411d-bb84-9c7861c4ecf0 button.colab-df-convert');\n",
              "        buttonEl.style.display =\n",
              "          google.colab.kernel.accessAllowed ? 'block' : 'none';\n",
              "\n",
              "        async function convertToInteractive(key) {\n",
              "          const element = document.querySelector('#df-ba015829-4c01-411d-bb84-9c7861c4ecf0');\n",
              "          const dataTable =\n",
              "            await google.colab.kernel.invokeFunction('convertToInteractive',\n",
              "                                                     [key], {});\n",
              "          if (!dataTable) return;\n",
              "\n",
              "          const docLinkHtml = 'Like what you see? Visit the ' +\n",
              "            '<a target=\"_blank\" href=https://colab.research.google.com/notebooks/data_table.ipynb>data table notebook</a>'\n",
              "            + ' to learn more about interactive tables.';\n",
              "          element.innerHTML = '';\n",
              "          dataTable['output_type'] = 'display_data';\n",
              "          await google.colab.output.renderOutput(dataTable, element);\n",
              "          const docLink = document.createElement('div');\n",
              "          docLink.innerHTML = docLinkHtml;\n",
              "          element.appendChild(docLink);\n",
              "        }\n",
              "      </script>\n",
              "    </div>\n",
              "  </div>\n",
              "  "
            ]
          },
          "metadata": {},
          "execution_count": 51
        }
      ]
    },
    {
      "cell_type": "code",
      "source": [
        "google['High-Low'] = google['High'] - google['Low']\n",
        "google"
      ],
      "metadata": {
        "id": "7wxaED9lmVhK"
      },
      "execution_count": null,
      "outputs": []
    },
    {
      "cell_type": "code",
      "source": [
        "google.head()"
      ],
      "metadata": {
        "id": "h5GXKNGziLu4"
      },
      "execution_count": null,
      "outputs": []
    },
    {
      "cell_type": "code",
      "source": [
        "google['Open']"
      ],
      "metadata": {
        "id": "hF7yb3i7iOko"
      },
      "execution_count": null,
      "outputs": []
    },
    {
      "cell_type": "code",
      "source": [
        "google['Open'].plot()"
      ],
      "metadata": {
        "id": "AnUaW7x9iXJx"
      },
      "execution_count": null,
      "outputs": []
    },
    {
      "cell_type": "code",
      "source": [
        "google['Open'].head().plot()"
      ],
      "metadata": {
        "id": "K06mSesmi3Vi"
      },
      "execution_count": null,
      "outputs": []
    },
    {
      "cell_type": "code",
      "source": [
        "google['Open'].plot(label=\"Google Opening Price\")\n",
        "google['Close'].plot(label=\"Google closing Price\")"
      ],
      "metadata": {
        "id": "sFlbzTThjODw"
      },
      "execution_count": null,
      "outputs": []
    },
    {
      "cell_type": "code",
      "source": [
        "google['Open'].head().plot(label=\"Google Opening Price\")\n",
        "google['Close'].head().plot(label=\"Google closing Price\")"
      ],
      "metadata": {
        "id": "vylGUYN5jlfV"
      },
      "execution_count": null,
      "outputs": []
    },
    {
      "cell_type": "code",
      "source": [
        "google['Open'].head().plot(label=\"Google Opening Price\")\n",
        "google['Close'].head().plot(label=\"Google closing Price\")\n",
        "plt.legend()"
      ],
      "metadata": {
        "id": "_haf1enMjzA6"
      },
      "execution_count": null,
      "outputs": []
    },
    {
      "cell_type": "code",
      "source": [
        "google['Open'].head().plot(label=\"Google Opening Price\")\n",
        "google['Close'].head().plot(label=\"Google closing Price\")\n",
        "google['High'].head().plot(label=\"Google High Price\")\n",
        "google['Low'].head().plot(label=\"Google Low Price\")\n",
        "plt.legend()"
      ],
      "metadata": {
        "id": "hqTWlVRLkGYQ"
      },
      "execution_count": null,
      "outputs": []
    },
    {
      "cell_type": "code",
      "source": [
        "google['Open'].head().plot(label=\"Google Opening Price\")\n",
        "google['Close'].head().plot(label=\"Google closing Price\")\n",
        "google['High'].head().plot(label=\"Google High Price\")\n",
        "google['Low'].head().plot(label=\"Google Low Price\")\n",
        "plt.title('Google Stock Price')\n",
        "plt.xlabel('Stock Date')\n",
        "plt.ylabel('Stock Volumn')\n",
        "plt.legend()"
      ],
      "metadata": {
        "id": "eLhtvXO9kZtB"
      },
      "execution_count": null,
      "outputs": []
    },
    {
      "cell_type": "code",
      "source": [
        "google['Open'].plot(label=\"Google Opening Price\")\n",
        "google['Close'].plot(label=\"Google closing Price\")\n",
        "google['High'].plot(label=\"Google High Price\")\n",
        "google['Low'].plot(label=\"Google Low Price\")\n",
        "plt.title('Google Stock Price')\n",
        "plt.xlabel('Stock Date')\n",
        "plt.ylabel('Stock Volumn')\n",
        "plt.legend()"
      ],
      "metadata": {
        "id": "_eZcCHXtky-g"
      },
      "execution_count": null,
      "outputs": []
    },
    {
      "cell_type": "code",
      "source": [
        "google['Open'].plot(label=\"Google Opening Price\", figsize=(20,10))\n",
        "google['Close'].plot(label=\"Google closing Price\")\n",
        "google['High'].plot(label=\"Google High Price\")\n",
        "google['Low'].plot(label=\"Google Low Price\")\n",
        "plt.title('Google Stock Price')\n",
        "plt.xlabel('Stock Date')\n",
        "plt.ylabel('Stock Volumn')\n",
        "plt.legend()"
      ],
      "metadata": {
        "id": "GETe8LfjlF_w"
      },
      "execution_count": null,
      "outputs": []
    },
    {
      "cell_type": "markdown",
      "source": [
        "#**Stock Volume Traded Visualization**"
      ],
      "metadata": {
        "id": "TGgsjFSUlnJZ"
      }
    },
    {
      "cell_type": "code",
      "source": [
        "google['Volume'].plot()"
      ],
      "metadata": {
        "id": "tpbNsv0DlwJI",
        "outputId": "dd086082-96b5-4544-d0d1-8b6b1a843866",
        "colab": {
          "base_uri": "https://localhost:8080/",
          "height": 455
        }
      },
      "execution_count": 8,
      "outputs": [
        {
          "output_type": "execute_result",
          "data": {
            "text/plain": [
              "<Axes: xlabel='Date'>"
            ]
          },
          "metadata": {},
          "execution_count": 8
        },
        {
          "output_type": "display_data",
          "data": {
            "text/plain": [
              "<Figure size 640x480 with 1 Axes>"
            ],
            "image/png": "[encoded data removed]"
          },
          "metadata": {}
        }
      ]
    },
    {
      "cell_type": "code",
      "source": [
        "google['Volume'].plot()"
      ],
      "metadata": {
        "id": "d4q67YstoJI3",
        "outputId": "4e9d75dc-5c8f-40ce-eb17-f72e68599e92",
        "colab": {
          "base_uri": "https://localhost:8080/",
          "height": 455
        }
      },
      "execution_count": 9,
      "outputs": [
        {
          "output_type": "execute_result",
          "data": {
            "text/plain": [
              "<Axes: xlabel='Date'>"
            ]
          },
          "metadata": {},
          "execution_count": 9
        },
        {
          "output_type": "display_data",
          "data": {
            "text/plain": [
              "<Figure size 640x480 with 1 Axes>"
            ],
            "image/png": "[encoded data removed]"
          },
          "metadata": {}
        }
      ]
    },
    {
      "cell_type": "code",
      "source": [
        "from pandas_datareader import data as pdr\n",
        "\n",
        "import yfinance as yf\n",
        "yf.pdr_override() # <== that's all it takes :-)\n",
        "\n",
        "# download dataframe\n",
        "Tesla = pdr.get_data_yahoo(\"TSLA\", start=start, end=end)\n",
        "GM =  pdr.get_data_yahoo(\"GM\", start=start, end=end)\n",
        "Ford =  pdr.get_data_yahoo(\"F\", start=start, end=end)"
      ],
      "metadata": {
        "colab": {
          "base_uri": "https://localhost:8080/"
        },
        "id": "iv1_AV8Jozdc",
        "outputId": "38d2e789-5242-487b-f744-d17aed02ff7b"
      },
      "execution_count": 10,
      "outputs": [
        {
          "output_type": "stream",
          "name": "stdout",
          "text": [
            "[*********************100%***********************]  1 of 1 completed\n",
            "[*********************100%***********************]  1 of 1 completed\n",
            "[*********************100%***********************]  1 of 1 completed\n"
          ]
        }
      ]
    },
    {
      "cell_type": "markdown",
      "source": [
        "#**Tesla vs GM vs Ford**"
      ],
      "metadata": {
        "id": "K-f0PO_dpMrs"
      }
    },
    {
      "cell_type": "code",
      "source": [
        "tesla.to_csv('tesla_stock_price.csv')"
      ],
      "metadata": {
        "id": "2K3XPtnkpLgA"
      },
      "execution_count": 11,
      "outputs": []
    },
    {
      "cell_type": "code",
      "source": [
        "Ford.to_csv('ford_stock_price.csv')"
      ],
      "metadata": {
        "id": "qumGWu9Zppyw"
      },
      "execution_count": 12,
      "outputs": []
    },
    {
      "cell_type": "code",
      "source": [
        "GM.to_csv('GM_stock_price.csv')"
      ],
      "metadata": {
        "id": "uuZ1fkZLptiP"
      },
      "execution_count": 13,
      "outputs": []
    },
    {
      "cell_type": "code",
      "source": [
        "tesla.Open.plot()\n",
        "Ford.Open.plot()\n",
        "GM.Open.plot()"
      ],
      "metadata": {
        "colab": {
          "base_uri": "https://localhost:8080/",
          "height": 440
        },
        "id": "Lv_eypepqQbv",
        "outputId": "7dfff6e5-a9e1-4ecb-86e5-833ae22b6785"
      },
      "execution_count": 14,
      "outputs": [
        {
          "output_type": "execute_result",
          "data": {
            "text/plain": [
              "<Axes: xlabel='Date'>"
            ]
          },
          "metadata": {},
          "execution_count": 14
        },
        {
          "output_type": "display_data",
          "data": {
            "text/plain": [
              "<Figure size 640x480 with 1 Axes>"
            ],
            "image/png": "[encoded data removed]"
          },
          "metadata": {}
        }
      ]
    },
    {
      "cell_type": "code",
      "source": [],
      "metadata": {
        "id": "4s9P7Ug1t_pq"
      },
      "execution_count": null,
      "outputs": []
    }
  ]
}