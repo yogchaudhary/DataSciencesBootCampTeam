{
  "nbformat": 4,
  "nbformat_minor": 0,
  "metadata": {
    "colab": {
      "provenance": []
    },
    "kernelspec": {
      "name": "python3",
      "display_name": "Python 3"
    },
    "language_info": {
      "name": "python"
    }
  },
  "cells": [
    {
      "cell_type": "code",
      "execution_count": 57,
      "metadata": {
        "id": "gid3FUzUu3nT"
      },
      "outputs": [],
      "source": [
        "import tensorflow as tf\n",
        "from tensorflow.keras.preprocessing.image import ImageDataGenerator"
      ]
    },
    {
      "cell_type": "code",
      "source": [
        "# checking availability of GPU\n",
        "\n",
        "tf.test.is_gpu_available()"
      ],
      "metadata": {
        "colab": {
          "base_uri": "https://localhost:8080/"
        },
        "id": "EL8wTjoxvcFp",
        "outputId": "cd15e10b-1499-493e-f626-0862bc0a1a4f"
      },
      "execution_count": 59,
      "outputs": [
        {
          "output_type": "execute_result",
          "data": {
            "text/plain": [
              "False"
            ]
          },
          "metadata": {},
          "execution_count": 59
        }
      ]
    },
    {
      "cell_type": "code",
      "source": [
        "# checking availability of GPU\n",
        "\n",
        "tf.test.is_gpu_available()"
      ],
      "metadata": {
        "colab": {
          "base_uri": "https://localhost:8080/"
        },
        "id": "HXs88Wb1yYqr",
        "outputId": "73b051ee-2dc4-41e2-8c82-7e92a38bcfbd"
      },
      "execution_count": 29,
      "outputs": [
        {
          "output_type": "execute_result",
          "data": {
            "text/plain": [
              "False"
            ]
          },
          "metadata": {},
          "execution_count": 29
        }
      ]
    },
    {
      "cell_type": "code",
      "source": [
        "from google.colab import drive\n",
        "drive.mount('/content/gdrive')"
      ],
      "metadata": {
        "colab": {
          "base_uri": "https://localhost:8080/"
        },
        "id": "YPa_0_8vvuh6",
        "outputId": "d1e1eca0-cc4c-43aa-f426-5fa6c2a863d7"
      },
      "execution_count": 30,
      "outputs": [
        {
          "output_type": "stream",
          "name": "stdout",
          "text": [
            "Drive already mounted at /content/gdrive; to attempt to forcibly remount, call drive.mount(\"/content/gdrive\", force_remount=True).\n"
          ]
        }
      ]
    },
    {
      "cell_type": "code",
      "source": [
        "batch_size = 16\n",
        "\n",
        "training_datagenerator = ImageDataGenerator(\n",
        "    rescale= 1./255,\n",
        "    horizontal_flip=True,\n",
        "    vertical_flip=True,\n",
        "    shear_range=0.2,\n",
        "    zoom_range=0.2,\n",
        "    width_shift_range=0.2,\n",
        "    height_shift_range=0.2,\n",
        "    validation_split=0.1\n",
        "    )"
      ],
      "metadata": {
        "id": "RTwJQlKdw0HG"
      },
      "execution_count": 32,
      "outputs": []
    },
    {
      "cell_type": "code",
      "source": [
        "train = training_datagenerator.flow_from_directory(\n",
        "'/content/gdrive/MyDrive/Fire_Smoke /train',\n",
        "target_size = (224,224),\n",
        "color_mode='rgb',\n",
        "class_mode='binary',\n",
        "batch_size=batch_size,\n",
        "subset='training'\n",
        ")\n",
        "\n",
        ""
      ],
      "metadata": {
        "colab": {
          "base_uri": "https://localhost:8080/"
        },
        "id": "fP_oBb8LyrdM",
        "outputId": "bd7abf99-7427-47d9-ac72-2d5aa91debe4"
      },
      "execution_count": 40,
      "outputs": [
        {
          "output_type": "stream",
          "name": "stdout",
          "text": [
            "Found 1802 images belonging to 2 classes.\n"
          ]
        }
      ]
    },
    {
      "cell_type": "code",
      "source": [
        "validation = training_datagenerator.flow_from_directory(\n",
        "'/content/gdrive/MyDrive/Fire_Smoke /validate',\n",
        "target_size = (224,224),\n",
        "color_mode='rgb',\n",
        "class_mode='binary',\n",
        "batch_size=batch_size,\n",
        "subset='training'\n",
        ")"
      ],
      "metadata": {
        "colab": {
          "base_uri": "https://localhost:8080/"
        },
        "id": "z2oTFKsv0l0L",
        "outputId": "b5d084fe-3aae-4cc9-a724-034a8227b7ff"
      },
      "execution_count": 46,
      "outputs": [
        {
          "output_type": "stream",
          "name": "stdout",
          "text": [
            "Found 902 images belonging to 2 classes.\n"
          ]
        }
      ]
    },
    {
      "cell_type": "code",
      "source": [
        "cnn = tf.keras.models.Sequential()"
      ],
      "metadata": {
        "id": "fq0aE2vk2TZF"
      },
      "execution_count": 47,
      "outputs": []
    },
    {
      "cell_type": "code",
      "source": [
        "# adding first layer\n",
        "\n",
        "cnn.add(tf.keras.layers.Conv2D(filters=32,kernel_size=3,padding='same',activation='relu',input_shape=[224,224,3]))\n",
        "cnn.add(tf.keras.layers.MaxPool2D(pool_size=2))"
      ],
      "metadata": {
        "id": "ylIlpKVL2chE"
      },
      "execution_count": 48,
      "outputs": []
    },
    {
      "cell_type": "code",
      "source": [
        "# adding second layer\n",
        "\n",
        "cnn.add(tf.keras.layers.Conv2D(filters=64,kernel_size=3,padding='same',activation='relu'))\n",
        "cnn.add(tf.keras.layers.MaxPool2D(pool_size=2))"
      ],
      "metadata": {
        "id": "mYTxktpe2riu"
      },
      "execution_count": 49,
      "outputs": []
    },
    {
      "cell_type": "code",
      "source": [
        "# adding third layer\n",
        "\n",
        "cnn.add(tf.keras.layers.Conv2D(filters=256,kernel_size=3,padding='same',activation='relu'))\n",
        "cnn.add(tf.keras.layers.MaxPool2D(pool_size=2))"
      ],
      "metadata": {
        "id": "Xc4UigTD2u7-"
      },
      "execution_count": 50,
      "outputs": []
    },
    {
      "cell_type": "code",
      "source": [
        "# flattening\n",
        "\n",
        "cnn.add(tf.keras.layers.Flatten())"
      ],
      "metadata": {
        "id": "CEcaAvH_2yWz"
      },
      "execution_count": 51,
      "outputs": []
    },
    {
      "cell_type": "code",
      "source": [
        "# Fully connected layer\n",
        "\n",
        "cnn.add(tf.keras.layers.Dense(units=128,activation='relu'))"
      ],
      "metadata": {
        "id": "pXjCy6OC21ey"
      },
      "execution_count": 52,
      "outputs": []
    },
    {
      "cell_type": "code",
      "source": [
        "# Output layers\n",
        "\n",
        "cnn.add(tf.keras.layers.Dense(units=1,activation='sigmoid'))"
      ],
      "metadata": {
        "id": "2hAZhY3Y26QI"
      },
      "execution_count": 53,
      "outputs": []
    },
    {
      "cell_type": "code",
      "source": [
        "cnn.summary()"
      ],
      "metadata": {
        "colab": {
          "base_uri": "https://localhost:8080/"
        },
        "id": "sEdDcC0X28fu",
        "outputId": "b513a2d6-edfb-4e3a-8af0-ba16bf712d30"
      },
      "execution_count": 54,
      "outputs": [
        {
          "output_type": "stream",
          "name": "stdout",
          "text": [
            "Model: \"sequential\"\n",
            "_________________________________________________________________\n",
            " Layer (type)                Output Shape              Param #   \n",
            "=================================================================\n",
            " conv2d (Conv2D)             (None, 224, 224, 32)      896       \n",
            "                                                                 \n",
            " max_pooling2d (MaxPooling2D  (None, 112, 112, 32)     0         \n",
            " )                                                               \n",
            "                                                                 \n",
            " conv2d_1 (Conv2D)           (None, 112, 112, 64)      18496     \n",
            "                                                                 \n",
            " max_pooling2d_1 (MaxPooling  (None, 56, 56, 64)       0         \n",
            " 2D)                                                             \n",
            "                                                                 \n",
            " conv2d_2 (Conv2D)           (None, 56, 56, 256)       147712    \n",
            "                                                                 \n",
            " max_pooling2d_2 (MaxPooling  (None, 28, 28, 256)      0         \n",
            " 2D)                                                             \n",
            "                                                                 \n",
            " flatten (Flatten)           (None, 200704)            0         \n",
            "                                                                 \n",
            " dense (Dense)               (None, 128)               25690240  \n",
            "                                                                 \n",
            " dense_1 (Dense)             (None, 1)                 129       \n",
            "                                                                 \n",
            "=================================================================\n",
            "Total params: 25,857,473\n",
            "Trainable params: 25,857,473\n",
            "Non-trainable params: 0\n",
            "_________________________________________________________________\n"
          ]
        }
      ]
    },
    {
      "cell_type": "code",
      "source": [
        "# Compile and Train\n",
        "\n",
        "checkpoint=tf.keras.callbacks.ModelCheckpoint('/content/gdrive/MyDrive/Fire_Smoke/Fire_and_Smoke.h5',\n",
        "                                             monitor='val_loss',mode=\"min\",\n",
        "                                             save_best_only=True)\n",
        "callbacks=checkpoint"
      ],
      "metadata": {
        "id": "CgAWLu8a2_4R"
      },
      "execution_count": 55,
      "outputs": []
    },
    {
      "cell_type": "code",
      "source": [
        "cnn.compile(optimizer='Adam',loss='binary_crossentropy',metrics=['accuracy'])\n",
        "\n",
        "cnn.fit_generator(train,validation_data=validation,epochs=1,\n",
        "                  steps_per_epoch=train.samples//batch_size,\n",
        "                  validation_steps=validation.samples//batch_size,\n",
        "                  callbacks=callbacks\n",
        "                 )"
      ],
      "metadata": {
        "colab": {
          "base_uri": "https://localhost:8080/"
        },
        "id": "sCyLLoEt3LUS",
        "outputId": "b383b74f-78c1-4952-e7de-d10f130ce28f"
      },
      "execution_count": 56,
      "outputs": [
        {
          "output_type": "stream",
          "name": "stderr",
          "text": [
            "<ipython-input-56-19d18e1a08c2>:3: UserWarning: `Model.fit_generator` is deprecated and will be removed in a future version. Please use `Model.fit`, which supports generators.\n",
            "  cnn.fit_generator(train,validation_data=validation,epochs=1,\n"
          ]
        },
        {
          "output_type": "stream",
          "name": "stdout",
          "text": [
            "112/112 [==============================] - 1569s 14s/step - loss: 0.2417 - accuracy: 0.9166 - val_loss: 0.2637 - val_accuracy: 0.9007\n"
          ]
        },
        {
          "output_type": "execute_result",
          "data": {
            "text/plain": [
              "<keras.callbacks.History at 0x7f4b453098a0>"
            ]
          },
          "metadata": {},
          "execution_count": 56
        }
      ]
    }
  ]
}