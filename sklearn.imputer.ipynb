{
  "nbformat": 4,
  "nbformat_minor": 0,
  "metadata": {
    "colab": {
      "provenance": []
    },
    "kernelspec": {
      "name": "python3",
      "display_name": "Python 3"
    },
    "language_info": {
      "name": "python"
    }
  },
  "cells": [
    {
      "cell_type": "code",
      "execution_count": null,
      "metadata": {
        "id": "NuHs6kzytg4O"
      },
      "outputs": [],
      "source": [
        "import pandas as pd"
      ]
    },
    {
      "cell_type": "code",
      "source": [
        "df=pd.read_excel(\"/content/Data Problem.xlsx\")"
      ],
      "metadata": {
        "id": "WafmX2uCtnUt"
      },
      "execution_count": null,
      "outputs": []
    },
    {
      "cell_type": "code",
      "source": [
        "df.shape[0]"
      ],
      "metadata": {
        "colab": {
          "base_uri": "https://localhost:8080/"
        },
        "id": "j9Qv5rS2xGg9",
        "outputId": "2c1fa077-b6b5-46ef-ba23-ea06ddf0d1b0"
      },
      "execution_count": null,
      "outputs": [
        {
          "output_type": "execute_result",
          "data": {
            "text/plain": [
              "91"
            ]
          },
          "metadata": {},
          "execution_count": 33
        }
      ]
    },
    {
      "cell_type": "code",
      "source": [
        "df.isna().sum()"
      ],
      "metadata": {
        "colab": {
          "base_uri": "https://localhost:8080/"
        },
        "id": "BRIVdxSMtsGF",
        "outputId": "63455234-d9f1-44fe-be2c-9face34ea133"
      },
      "execution_count": null,
      "outputs": [
        {
          "output_type": "execute_result",
          "data": {
            "text/plain": [
              "Observation    0\n",
              "x1             2\n",
              "x2             4\n",
              "x3             5\n",
              "dtype: int64"
            ]
          },
          "metadata": {},
          "execution_count": 34
        }
      ]
    },
    {
      "cell_type": "code",
      "source": [
        "df.columns"
      ],
      "metadata": {
        "colab": {
          "base_uri": "https://localhost:8080/"
        },
        "id": "sd9Md8BMxbo8",
        "outputId": "419a324a-4863-4f15-b274-d479425ab182"
      },
      "execution_count": null,
      "outputs": [
        {
          "output_type": "execute_result",
          "data": {
            "text/plain": [
              "Index(['Observation', 'x1', 'x2', 'x3'], dtype='object')"
            ]
          },
          "metadata": {},
          "execution_count": 35
        }
      ]
    },
    {
      "cell_type": "code",
      "source": [
        "filter=df['x2']>470\n",
        "df[filter].shape"
      ],
      "metadata": {
        "colab": {
          "base_uri": "https://localhost:8080/"
        },
        "id": "CK2-qQ-DuQWU",
        "outputId": "b779195e-2478-4f04-f03e-702fc87b795c"
      },
      "execution_count": null,
      "outputs": [
        {
          "output_type": "execute_result",
          "data": {
            "text/plain": [
              "(51, 4)"
            ]
          },
          "metadata": {},
          "execution_count": 36
        }
      ]
    },
    {
      "cell_type": "code",
      "source": [
        "from sklearn.impute import SimpleImputer\n",
        "imputer=SimpleImputer(strategy='most_frequent')\n",
        "imputer.fit(df)\n",
        "df_filled=imputer.transform(df)\n",
        "df_filled=pd.DataFrame(df_filled,columns=list(df.columns))\n",
        "print(df_filled)"
      ],
      "metadata": {
        "colab": {
          "base_uri": "https://localhost:8080/"
        },
        "id": "KxK6hx14yPRb",
        "outputId": "192d6c0c-d293-42ad-e837-c6bd31ab5bf8"
      },
      "execution_count": null,
      "outputs": [
        {
          "output_type": "stream",
          "name": "stdout",
          "text": [
            "<class 'numpy.ndarray'>\n",
            "    Observation    x1     x2     x3\n",
            "0           1.0  33.0  371.0  189.0\n",
            "1           2.0  28.0  752.0  140.0\n",
            "2           3.0  24.0  673.0  204.0\n",
            "3           4.0  17.0  180.0  151.0\n",
            "4           5.0  20.0   66.0  191.0\n",
            "..          ...   ...    ...    ...\n",
            "86         87.0  18.0  412.0  137.0\n",
            "87         88.0  28.0  629.0  139.0\n",
            "88         89.0  22.0  167.0  125.0\n",
            "89         90.0  35.0  842.0  126.0\n",
            "90         91.0  38.0  180.0  151.0\n",
            "\n",
            "[91 rows x 4 columns]\n"
          ]
        }
      ]
    },
    {
      "cell_type": "code",
      "source": [
        "# Counts frequency of each value in a series or dataframe\n",
        "#df['x1'].mode().iloc[0] method 2\n",
        "\n",
        "df['x1']=df['x1'].fillna(df['x1'].value_counts().keys()[0])\n",
        "df['x2']=df['x2'].fillna(df['x2'].value_counts().keys()[0])\n",
        "df['x3']=df['x3'].fillna(df['x3'].value_counts().keys()[0])\n",
        "print(df.head())"
      ],
      "metadata": {
        "colab": {
          "base_uri": "https://localhost:8080/"
        },
        "id": "f4nJ_EcD2uvs",
        "outputId": "86fad3d8-f2ef-4be1-9e03-3f5244beb9ef"
      },
      "execution_count": null,
      "outputs": [
        {
          "output_type": "stream",
          "name": "stdout",
          "text": [
            "   Observation    x1     x2     x3\n",
            "0            1  33.0  371.0  189.0\n",
            "1            2  28.0  752.0  140.0\n",
            "2            3  24.0  673.0  204.0\n",
            "3            4  17.0  673.0  151.0\n",
            "4            5  20.0   66.0  191.0\n"
          ]
        }
      ]
    },
    {
      "cell_type": "code",
      "source": [
        "# SUPERVISED LEARNING\n",
        "\n",
        "# FEATURE AND LABELS"
      ],
      "metadata": {
        "id": "Exyxnpg16UAT"
      },
      "execution_count": null,
      "outputs": []
    }
  ]
}